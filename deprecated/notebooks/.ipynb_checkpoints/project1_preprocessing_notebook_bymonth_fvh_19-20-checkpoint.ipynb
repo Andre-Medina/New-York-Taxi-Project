{
 "cells": [
  {
   "cell_type": "code",
   "execution_count": 1,
   "metadata": {},
   "outputs": [
    {
     "name": "stderr",
     "output_type": "stream",
     "text": [
      "Picked up _JAVA_OPTIONS: -Xmx6000m\n",
      "Picked up _JAVA_OPTIONS: -Xmx6000m\n",
      "21/08/09 01:12:25 WARN Utils: Your hostname, DESKTOP-GN6J0KT resolves to a loopback address: 127.0.1.1; using 172.24.141.130 instead (on interface eth0)\n",
      "21/08/09 01:12:25 WARN Utils: Set SPARK_LOCAL_IP if you need to bind to another address\n",
      "21/08/09 01:12:26 WARN NativeCodeLoader: Unable to load native-hadoop library for your platform... using builtin-java classes where applicable\n",
      "Using Spark's default log4j profile: org/apache/spark/log4j-defaults.properties\n",
      "Setting default log level to \"WARN\".\n",
      "To adjust logging level use sc.setLogLevel(newLevel). For SparkR, use setLogLevel(newLevel).\n"
     ]
    }
   ],
   "source": [
    "#█    ▀  █▀▀▄ █▀▀█ █▀▀█ █▀▀█ █  █ █▀▀ \n",
    "#█   ▀█▀ █▀▀▄ █▄▄▀ █▄▄█ █▄▄▀ █▄▄█ ▀▀█ \n",
    "#▀▀▀ ▀▀▀ ▀▀▀  ▀ ▀▀ ▀  ▀ ▀ ▀▀ ▄▄▄█ ▀▀▀ \n",
    "#\n",
    "\n",
    "import time\n",
    "import pandas as pd\n",
    "import datetime\n",
    "\n",
    "from numpy import log, sqrt\n",
    "import seaborn as sns\n",
    "import matplotlib.pyplot as plt\n",
    "from pyspark.sql.functions import rand \n",
    "seed = 1\n",
    "\n",
    "import pyspark.sql.functions as F\n",
    "\n",
    "from pyspark.sql.types import *\n",
    "from pyspark.sql.functions import col\n",
    "\n",
    "from pyspark.sql import SparkSession\n",
    "import warnings\n",
    "\n",
    "#variable for skipping all the plotting code for debugging processing\n",
    "plotting = True\n",
    "start_time = time.perf_counter()\n",
    "start_time_og = time.perf_counter()\n",
    "\n",
    "#█▀ █▀█ ▄▀█ █▀█ █▄▀ \n",
    "#▄█ █▀▀ █▀█ █▀▄ █ █ \n",
    "# spark set up\n",
    "\n",
    "#removes warnings\n",
    "warnings.filterwarnings(\"ignore\")\n",
    "\n",
    "# create a spark session (which will run spark jobs)\n",
    "spark = SparkSession.builder.getOrCreate()\n",
    "\n",
    "# makes the outputted df nicely formatted\n",
    "spark.conf.set('spark.sql.repl.eagerEval.enabled', True)\n",
    "\n",
    "\n",
    "\n",
    "#█▀▄ ▄▀█ ▀█▀ ▄▀█    █▀▄ █ █▀█ \n",
    "#█▄▀ █▀█  █  █▀█    █▄▀ █ █▀▄ \n",
    "#\n",
    "\n",
    "#main data directory\n",
    "data_dir = \"/mnt/e/2021/Applied Data Science/Project 1/Data/\"\n",
    "\n",
    "\n",
    "#▀█▀ ▄▀█ ▀▄▀ █    █▀▄ ▄▀█ ▀█▀ ▄▀█ \n",
    "# █  █▀█ █ █ █    █▄▀ █▀█  █  █▀█ \n",
    "#\n",
    "\n",
    "#file location\n",
    "file_base = \"_tripdata_\"\n",
    "\n",
    "#indexs for each of the main data set types\n",
    "ywl_i = 0 \n",
    "grn_i = 1\n",
    "fhv_i = 2\n",
    "hvf_i = 3\n",
    "taxi_types_n = 2\n",
    "\n",
    "#names related to each cab type in order\n",
    "taxi_file_names = [\"yellow\", \"green\"]\n",
    "full_names = [\"yellow cabs\", \"green cabs\"]\n",
    "\n",
    "#column names for each cab type in order\n",
    "column_names = [\n",
    "    ['VendorID', 'tpep_pickup_datetime', 'tpep_dropoff_datetime', 'passenger_count', 'trip_distance', 'RatecodeID', 'store_and_fwd_flag', 'PULocationID', 'DOLocationID', 'payment_type', 'fare_amount', 'extra', 'mta_tax', 'tip_amount', 'tolls_amount', 'improvement_surcharge', 'total_amount', 'congestion_surcharge'],\n",
    "    ['VendorID', 'lpep_pickup_datetime', 'lpep_dropoff_datetime', 'store_and_fwd_flag', 'RatecodeID', 'PULocationID', 'DOLocationID', 'passenger_count', 'trip_distance', 'fare_amount', 'extra', 'mta_tax', 'tip_amount', 'tolls_amount', 'ehail_fee', 'improvement_surcharge', 'total_amount', 'payment_type', 'trip_type', 'congestion_surcharge'],\n",
    "    ['dispatching_base_num', 'pickup_datetime', 'dropoff_datetime', 'PULocationID', 'DOLocationID', 'SR_Flag'],\n",
    "    ['hvfhs_license_num', 'dispatching_base_num', 'pickup_datetime', 'dropoff_datetime', 'PULocationID', 'DOLocationID', 'SR_Flag']\n",
    "]\n",
    "\n",
    "#2018 fhv files which was giving me trouble so added this schema for it\n",
    "bad_fhv_schema = [2, 2018, ['Pickup_DateTime','DropOff_datetime', 'PULocationID', 'DOLocationID', 'SR_Flag','dispatching_base_number']]\n",
    "\n",
    "\n",
    "#aliases for pickup time and dropoff time\n",
    "pickup_time = ['tpep_pickup_datetime','lpep_pickup_datetime','pickup_datetime','pickup_datetime','Pickup_DateTime']\n",
    "dropoff_time = ['tpep_dropoff_datetime','lpep_dropoff_datetime','dropoff_datetime','dropoff_datetime','DropOff_datetime']\n",
    "\n",
    "#irrelavent collumns that can be dropped\n",
    "irrelavent_columns = ['dispatching_base_number','DOtime','hvfhs_license_num','dispatching_base_num','VendorID','store_and_fwd_flag','extra','MTA_tax','improvement_surcharge','tip_amount','tolls_amount', 'ehail_fee', 'improvement_surcharge', 'congestion_surcharge']\n",
    "\n",
    "\n",
    "#▀█▀ ▄▀█ ▀▄▀ █    █   █▀█ █▀▀ ▄▀█ ▀█▀ █ █▀█ █▄ █ █▀ \n",
    "# █  █▀█ █ █ █    █▄▄ █▄█ █▄▄ █▀█  █  █ █▄█ █ ▀█ ▄█ \n",
    "#\n",
    "\n",
    "#location processing variables\n",
    "#locations that will be removed as considered invalid\n",
    "bad_locations = [1,132,138,264,265]\n",
    "\n",
    "#location of the location id file\n",
    "location_file = \"taxi+_zone_lookup.csv\"\n",
    "\n",
    "#list of boroughs names as in the location file\n",
    "boroughs = [\"Bronx\",\"Brooklyn\",\"Manhattan\",\"Queens\",\"Staten Island\",\"EWR\",\"Unknown\"]\n",
    "\n",
    "\n",
    "#█▀▄ ▄▀█ ▀█▀ █▀▀    █▀▄ █▀▀ █▀▀ █▀ \n",
    "#█▄▀ █▀█  █  ██▄    █▄▀ ██▄ █▀  ▄█ \n",
    "#\n",
    "months_in_year = 12\n",
    "\n",
    "#years of data used\n",
    "years = [2019, 2020]\n",
    "\n",
    "#feb 2019 was when fhvhv file started\n",
    "fhvhv_started = [2,2019] \n",
    "\n",
    "#late feb 2020 was when the first case of covid was observed in NYC\n",
    "covid_started = [2,2020] \n",
    "\n",
    "#preprocessing arrays\n",
    "\n",
    "#hours each day to seperate each count\n",
    "day_time_breakdown = [0,6,12,18]\n",
    "\n",
    "#day of the year covid started on\n",
    "start_day = int(datetime.datetime.strptime(\n",
    "    \" \".join([str(int) for int in covid_started]), \n",
    "    \"%m %Y\").__format__(\"%j\"))\n",
    "\n",
    "#pretty self explanitory\n",
    "days_in_2020 = 366\n",
    "\n",
    "\n",
    "#█▀█ █ █ ▀█▀ █   █ █▀▀ █▀█ █▀ \n",
    "#█▄█ █▄█  █  █▄▄ █ ██▄ █▀▄ ▄█ \n",
    "#\n",
    "\n",
    "outlier_percent = (1-.99)/2\n",
    "fare_amount_graph_buffer = 15\n",
    "percentile_accuracy = 0.00001\n",
    "\n",
    "\n",
    "#█▀▀ █▀█ █ █ █ █▀▄    █▀▄ █▀▀ █▀▀ █▀ \n",
    "#█▄▄ █▄█ ▀▄▀ █ █▄▀    █▄▀ ██▄ █▄▄ ▄█ \n",
    "#\n",
    "\n",
    "#files\n",
    "covid_restrictions_file = \"covid_restrictions.csv\"\n",
    "covid_cases_file = \"COVID-19_Daily_Counts_of_Cases__Hospitalizations__and_Deaths.csv\"\n",
    "\n",
    "#list of boroughs as named in the covid file (same order)\n",
    "covid_boroughs =[\"bx\",\"bk\",\"mn\",\"qn\",\"si\"]\n",
    "\n",
    "#covid data of interest\n",
    "covid_of_interest = ['case_count', 'probable_case_count','hospitalized_count', 'death_count', 'probable_death_count',\n",
    "       'case_count_7day_avg', 'all_case_count_7day_avg', 'hospitalized_count_7day_avg',\n",
    "       'death_count_7day_avg', 'all_death_count_7day_avg']\n",
    "\n",
    "\n",
    "\n",
    "processed_data_file = \"_processed_data_\"\n",
    "output_file = \"combined_taxi_data.csv\"\n",
    "\n"
   ]
  },
  {
   "cell_type": "code",
   "execution_count": 2,
   "metadata": {},
   "outputs": [],
   "source": [
    "#█▀▀ █▀▀ █  █ █▀▀ █▀▄▀█ █▀▀█    █▀▀ █▀▀ ▀▀█▀▀ █  █ █▀▀█ \n",
    "#▀▀█ █   █▀▀█ █▀▀ █ ▀ █ █▄▄█    ▀▀█ █▀▀   █   █  █ █▄▄█ \n",
    "#▀▀▀ ▀▀▀ ▀  ▀ ▀▀▀ ▀   ▀ ▀  ▀    ▀▀▀ ▀▀▀   ▀    ▀▀▀ █    \n",
    "#\n",
    "\n",
    "ints = ('SR_Flag','VendorID', 'trip_type', 'passenger_count', 'RateCodeID', 'RatecodeID','payment_type','PULocationID','DOLocationID')\n",
    "doubles = ('trip_distance', 'pickup_longitude', 'pickup_latitude', 'dropoff_longitude', 'dropoff_latitude','ehail_fee',\n",
    "           'fare_amount', 'extra', 'mta_tax', 'tip_amount', 'tolls_amount', 'improvement_surcharge', 'total_amount','congestion_surcharge')\n",
    "strings = ('dispatching_base_number','store_and_fwd_flag','dispatching_base_num','hvfhs_license_num')\n",
    "dtimes = ('DropOff_datetime','Pickup_DateTime','tpep_pickup_datetime', 'tpep_dropoff_datetime', 'lpep_pickup_datetime', 'lpep_dropoff_datetime', 'pickup_datetime', 'dropoff_datetime')\n",
    "\n",
    "dtypes = {column: IntegerType() for column in ints}\n",
    "dtypes.update({column: DoubleType() for column in doubles})\n",
    "dtypes.update({column: StringType() for column in strings})\n",
    "dtypes.update({column: TimestampType() for column in dtimes})\n",
    "\n",
    "\n",
    "\n",
    "\n",
    "\n",
    "#schema generation used from the tutes\n",
    "schema = []\n",
    "for index in range(0,taxi_types_n):\n",
    "    schema.append(StructType())\n",
    "    for column in column_names[index]:\n",
    "        schema[index].add(column, # column name\n",
    "                   dtypes[column], # data type\n",
    "                   True # is nullable?\n",
    "                  )\n",
    "        \n",
    "        \n",
    "        \n",
    "#schema for the bad fhv file\n",
    "bad_fhv_schema.append(StructType())\n",
    "for column in bad_fhv_schema[2]:\n",
    "    bad_fhv_schema[3].add(column,\n",
    "                         dtypes[column],\n",
    "                         True)"
   ]
  },
  {
   "cell_type": "code",
   "execution_count": 3,
   "metadata": {
    "scrolled": true
   },
   "outputs": [
    {
     "name": "stdout",
     "output_type": "stream",
     "text": [
      "importing yellow    \t2019-02\n",
      "importing green    \t2019-02\n",
      "importing yellow    \t2019-03\n",
      "importing green    \t2019-03\n",
      "importing yellow    \t2019-04\n",
      "importing green    \t2019-04\n",
      "importing yellow    \t2019-05\n",
      "importing green    \t2019-05\n",
      "importing yellow    \t2019-06\n",
      "importing green    \t2019-06\n",
      "importing yellow    \t2019-07\n",
      "importing green    \t2019-07\n",
      "importing yellow    \t2019-08\n",
      "importing green    \t2019-08\n",
      "importing yellow    \t2019-09\n",
      "importing green    \t2019-09\n",
      "importing yellow    \t2019-10\n",
      "importing green    \t2019-10\n",
      "importing yellow    \t2019-11\n",
      "importing green    \t2019-11\n",
      "importing yellow    \t2019-12\n",
      "importing green    \t2019-12\n",
      "importing yellow    \t2020-02\n",
      "importing green    \t2020-02\n",
      "importing yellow    \t2020-03\n",
      "importing green    \t2020-03\n",
      "importing yellow    \t2020-04\n",
      "importing green    \t2020-04\n",
      "importing yellow    \t2020-05\n",
      "importing green    \t2020-05\n",
      "importing yellow    \t2020-06\n",
      "importing green    \t2020-06\n",
      "importing yellow    \t2020-07\n",
      "importing green    \t2020-07\n",
      "importing yellow    \t2020-08\n",
      "importing green    \t2020-08\n",
      "importing yellow    \t2020-09\n",
      "importing green    \t2020-09\n",
      "importing yellow    \t2020-10\n",
      "importing green    \t2020-10\n",
      "importing yellow    \t2020-11\n",
      "importing green    \t2020-11\n",
      "importing yellow    \t2020-12\n",
      "importing green    \t2020-12\n"
     ]
    }
   ],
   "source": [
    "#██╗ ███╗   ███╗ ██████╗   ██████╗  ██████╗  ████████╗ ██╗ ███╗   ██╗  ██████╗  \n",
    "#██║ ████╗ ████║ ██╔══██╗ ██╔═══██╗ ██╔══██╗ ╚══██╔══╝ ██║ ████╗  ██║ ██╔════╝  \n",
    "#██║ ██╔████╔██║ ██████╔╝ ██║   ██║ ██████╔╝    ██║    ██║ ██╔██╗ ██║ ██║  ███╗ \n",
    "#██║ ██║╚██╔╝██║ ██╔═══╝  ██║   ██║ ██╔══██╗    ██║    ██║ ██║╚██╗██║ ██║   ██║ \n",
    "#██║ ██║ ╚═╝ ██║ ██║      ╚██████╔╝ ██║  ██║    ██║    ██║ ██║ ╚████║ ╚██████╔╝ \n",
    "#╚═╝ ╚═╝     ╚═╝ ╚═╝       ╚═════╝  ╚═╝  ╚═╝    ╚═╝    ╚═╝ ╚═╝  ╚═══╝  ╚═════╝  \n",
    "# imports all the relavent csv files to \n",
    "\n",
    "\n",
    "#▀█▀ ▄▀█ ▀▄▀ █ \n",
    "# █  █▀█ █ █ █ \n",
    "#\n",
    "def read_csv(year, month, taxi_i, schema_used, drop_index):\n",
    "    return (\n",
    "        spark.read.csv(\n",
    "            data_dir + taxi_file_names[taxi_i] + file_base + str(year) + \"-\" + str(month).zfill(2) + \".csv\", \n",
    "            header=True, \n",
    "            schema=schema_used)\\\n",
    "        .withColumnRenamed(pickup_time[drop_index],\"PUtime\")# rename the time col\n",
    "        .withColumnRenamed(dropoff_time[drop_index],\"DOtime\")# rename other time col\n",
    "        .drop(*irrelavent_columns)\n",
    "        #.sample(False, 0.1, seed=seed).limit(10000) #testing line        \n",
    "    )\n",
    "\n",
    "\n",
    "#spark data frame matrix\n",
    "dfm = {}\n",
    "\n",
    "for year in years:\n",
    "    dfm[year] = {}\n",
    "    \n",
    "    #loops over the months in years\n",
    "    for month in range(covid_started[0], months_in_year + 1): \n",
    "        dfm[year][month] = {}\n",
    "    \n",
    "        #for each taxi variant\n",
    "        for taxi_i in range(0,len(taxi_file_names)):\n",
    "            dfm[year][month][taxi_i] = 0\n",
    "           \n",
    "\n",
    "            \n",
    "            if(bad_fhv_schema[1] == year and taxi_i == fhv_i):\n",
    "                \n",
    "                schema_used = bad_fhv_schema[3]\n",
    "                drop_index = 4\n",
    "            else:\n",
    "                schema_used = schema[taxi_i]\n",
    "                drop_index = taxi_i\n",
    "                \n",
    "                    \n",
    "                    \n",
    "            \n",
    "            #small condition as fhvhv didnt always exist\n",
    "            if( (month >= fhvhv_started[0] and year >= fhvhv_started[1]) or taxi_i != hvf_i):\n",
    "                \n",
    "                #prints that the functions is processing\n",
    "                print(\"importing \" + taxi_file_names[taxi_i] + \"    \\t\" + str(year) + \"-\" + str(month).zfill(2))                \n",
    "                \n",
    "                #reads the first dataframe\n",
    "                dfm[year][month][taxi_i] = read_csv(year, month, taxi_i, schema_used, drop_index)\n",
    "            \n",
    "            else:\n",
    "                dfm[year][month][taxi_i] = None\n",
    "\n",
    "for year in years:\n",
    "    for taxi_i in range(0,len(taxi_file_names)):\n",
    "        if( dfm[year][month][taxi_i] ):\n",
    "            dfm[year][month][taxi_i] = dfm[year][month][taxi_i]#.orderBy(rand(seed=seed))).limit(1000)"
   ]
  },
  {
   "cell_type": "code",
   "execution_count": 4,
   "metadata": {},
   "outputs": [
    {
     "name": "stdout",
     "output_type": "stream",
     "text": [
      "9.575364799999988 seconds have elapsed\n",
      "9.576418999999987 seconds have elapsed total\n"
     ]
    }
   ],
   "source": [
    "\n",
    "print(str(time.perf_counter() - start_time) + \" seconds have elapsed\")\n",
    "print(str(time.perf_counter() - start_time_og) + \" seconds have elapsed total\")\n",
    "start_time = time.perf_counter()"
   ]
  },
  {
   "cell_type": "code",
   "execution_count": 5,
   "metadata": {},
   "outputs": [],
   "source": [
    "#█▀▀ ▄▀█ █▀ █▀▀ █▀ \n",
    "#█▄▄ █▀█ ▄█ ██▄ ▄█ \n",
    "# #importing covid case data\n",
    "covid_cases = pd.read_csv(data_dir + covid_cases_file)\n",
    "\n",
    "#makes the names of columns lowercase\n",
    "covid_cases.columns = covid_cases.columns.str.lower()\n",
    "\n",
    "#makes the date column datetime object\n",
    "covid_cases['date_of_interest'] = covid_cases['date_of_interest']\\\n",
    "    .transform(lambda x: datetime.datetime.strptime(x, \"%m/%d/%Y\"))\n",
    "\n",
    "#renaming some badly named columns\n",
    "covid_cases['probable_death_count'] = covid_cases['death_count_probable']\n",
    "covid_cases['hospitalized_count_7day_avg'] = covid_cases['hosp_count_7day_avg']\n",
    "covid_cases = covid_cases.drop(['death_count_probable','hosp_count_7day_avg'],axis=1)"
   ]
  },
  {
   "cell_type": "code",
   "execution_count": 6,
   "metadata": {},
   "outputs": [],
   "source": [
    "#█▀█ █▀▀ █▀ ▀█▀ █▀█ █ █▀▀ ▀█▀ █ █▀█ █▄ █ █▀ \n",
    "#█▀▄ ██▄ ▄█  █  █▀▄ █ █▄▄  █  █ █▄█ █ ▀█ ▄█ \n",
    "#\n",
    "\n",
    "#importing covid restrictions data\n",
    "covid_restrictions = pd.read_csv(data_dir + covid_restrictions_file)"
   ]
  },
  {
   "cell_type": "code",
   "execution_count": 7,
   "metadata": {},
   "outputs": [
    {
     "name": "stderr",
     "output_type": "stream",
     "text": [
      "                                                                                \r"
     ]
    }
   ],
   "source": [
    "if plotting:\n",
    "    \n",
    "    #if we are plotting, gets some data to plot\n",
    "    dft = dfm[2019][5][ywl_i].sample(False, 0.1, seed=0).limit(10000)\n",
    "    \n",
    "    #extracting all the fare amounts\n",
    "    data = dft.select('fare_amount').toPandas()['fare_amount']\n",
    "    \n",
    "    # apply a log transformation for all x non-zero x points, else 0\n",
    "    dataL = data.apply(lambda x: log(x) if x else 0)"
   ]
  },
  {
   "cell_type": "code",
   "execution_count": 8,
   "metadata": {},
   "outputs": [
    {
     "data": {
      "image/png": "[encoded data removed]",
      "text/plain": [
       "<Figure size 432x288 with 1 Axes>"
      ]
     },
     "metadata": {
      "needs_background": "light"
     },
     "output_type": "display_data"
    }
   ],
   "source": [
    "if plotting:\n",
    "    \n",
    "    #plots the fare amount as a histogram (no log)\n",
    "    sns.distplot(data, bins= round((data.max()-data.min())/(2)))\n",
    "    plt.xlim(data.quantile(outlier_percent)-fare_amount_graph_buffer, data.quantile(1-outlier_percent)+fare_amount_graph_buffer)\n",
    "    plt.show()"
   ]
  },
  {
   "cell_type": "code",
   "execution_count": 9,
   "metadata": {},
   "outputs": [
    {
     "data": {
      "image/png": "[encoded data removed]",
      "text/plain": [
       "<Figure size 432x288 with 1 Axes>"
      ]
     },
     "metadata": {
      "needs_background": "light"
     },
     "output_type": "display_data"
    }
   ],
   "source": [
    "if plotting:\n",
    "    \n",
    "    #plots the log of the fare amount as a histogram\n",
    "    plt.xlim(dataL.quantile(outlier_percent)-log(fare_amount_graph_buffer), dataL.quantile(1-outlier_percent)+log(fare_amount_graph_buffer))\n",
    "    sns.distplot(dataL, bins= round((dataL.max()-dataL.min()))*2)\n",
    "    plt.show()\n",
    "    \n",
    "    #tried other plots and they looked like shit"
   ]
  },
  {
   "cell_type": "code",
   "execution_count": 10,
   "metadata": {},
   "outputs": [],
   "source": [
    "if plotting:\n",
    "    \n",
    "    #extracting all the \n",
    "    data = dft.select('trip_distance').toPandas()['trip_distance']\n",
    "    \n",
    "    # apply a log transformation for all x non-zero x points, else 0\n",
    "    dataL = data.apply(lambda x: log(x) if x else 0)"
   ]
  },
  {
   "cell_type": "code",
   "execution_count": 11,
   "metadata": {},
   "outputs": [
    {
     "data": {
      "image/png": "[encoded data removed]",
      "text/plain": [
       "<Figure size 432x288 with 1 Axes>"
      ]
     },
     "metadata": {
      "needs_background": "light"
     },
     "output_type": "display_data"
    }
   ],
   "source": [
    "if plotting:\n",
    "    \n",
    "    #fare amount as a historgram\n",
    "    plt.xlim(data.quantile(outlier_percent)-fare_amount_graph_buffer, data.quantile(1-outlier_percent)+fare_amount_graph_buffer)\n",
    "    sns.distplot(data, bins= round((data.max()-data.min())*1))\n",
    "    plt.show()"
   ]
  },
  {
   "cell_type": "code",
   "execution_count": 12,
   "metadata": {},
   "outputs": [
    {
     "data": {
      "image/png": "[encoded data removed]",
      "text/plain": [
       "<Figure size 432x288 with 1 Axes>"
      ]
     },
     "metadata": {
      "needs_background": "light"
     },
     "output_type": "display_data"
    }
   ],
   "source": [
    "if plotting:\n",
    "    \n",
    "    #log( fare amount) as a histogram\n",
    "    plt.xlim(dataL.quantile(outlier_percent)-log(fare_amount_graph_buffer), dataL.quantile(1-outlier_percent)+log(fare_amount_graph_buffer))\n",
    "    sns.distplot(dataL, bins= round((dataL.max()-dataL.min()))*5)\n",
    "    plt.show()"
   ]
  },
  {
   "cell_type": "code",
   "execution_count": 13,
   "metadata": {},
   "outputs": [
    {
     "name": "stderr",
     "output_type": "stream",
     "text": [
      "\r",
      "[Stage 2:>                                                          (0 + 8) / 8]\r",
      "\r",
      "                                                                                \r"
     ]
    },
    {
     "data": {
      "image/png": "[encoded data removed]",
      "text/plain": [
       "<Figure size 432x288 with 1 Axes>"
      ]
     },
     "metadata": {
      "needs_background": "light"
     },
     "output_type": "display_data"
    }
   ],
   "source": [
    "if plotting:\n",
    "    \n",
    "    #initial plot of trip vs cost data, very noisy, alot to remove\n",
    "    data = dft.select('fare_amount','trip_distance').toPandas()\n",
    "    data.plot.scatter(y='fare_amount',x='trip_distance')"
   ]
  },
  {
   "cell_type": "code",
   "execution_count": 14,
   "metadata": {},
   "outputs": [
    {
     "name": "stdout",
     "output_type": "stream",
     "text": [
      "processing 2019-2 yellow\n",
      "processing 2019-2 green\n",
      "processing 2019-3 yellow\n",
      "processing 2019-3 green\n",
      "processing 2019-4 yellow\n",
      "processing 2019-4 green\n",
      "processing 2019-5 yellow\n",
      "processing 2019-5 green\n",
      "processing 2019-6 yellow\n",
      "processing 2019-6 green\n",
      "processing 2019-7 yellow\n",
      "processing 2019-7 green\n",
      "processing 2019-8 yellow\n",
      "processing 2019-8 green\n",
      "processing 2019-9 yellow\n",
      "processing 2019-9 green\n",
      "processing 2019-10 yellow\n",
      "processing 2019-10 green\n",
      "processing 2019-11 yellow\n",
      "processing 2019-11 green\n",
      "processing 2019-12 yellow\n",
      "processing 2019-12 green\n",
      "processing 2020-2 yellow\n",
      "processing 2020-2 green\n",
      "processing 2020-3 yellow\n",
      "processing 2020-3 green\n",
      "processing 2020-4 yellow\n",
      "processing 2020-4 green\n",
      "processing 2020-5 yellow\n",
      "processing 2020-5 green\n",
      "processing 2020-6 yellow\n",
      "processing 2020-6 green\n",
      "processing 2020-7 yellow\n",
      "processing 2020-7 green\n",
      "processing 2020-8 yellow\n",
      "processing 2020-8 green\n",
      "processing 2020-9 yellow\n",
      "processing 2020-9 green\n",
      "processing 2020-10 yellow\n",
      "processing 2020-10 green\n",
      "processing 2020-11 yellow\n",
      "processing 2020-11 green\n",
      "processing 2020-12 yellow\n",
      "processing 2020-12 green\n"
     ]
    }
   ],
   "source": [
    "#███████╗ ██╗ ██╗      ████████╗ ███████╗ ██████╗  ██╗ ███╗   ██╗  ██████╗  \n",
    "#██╔════╝ ██║ ██║      ╚══██╔══╝ ██╔════╝ ██╔══██╗ ██║ ████╗  ██║ ██╔════╝  \n",
    "#█████╗   ██║ ██║         ██║    █████╗   ██████╔╝ ██║ ██╔██╗ ██║ ██║  ███╗ \n",
    "#██╔══╝   ██║ ██║         ██║    ██╔══╝   ██╔══██╗ ██║ ██║╚██╗██║ ██║   ██║ \n",
    "#██║      ██║ ███████╗    ██║    ███████╗ ██║  ██║ ██║ ██║ ╚████║ ╚██████╔╝ \n",
    "#╚═╝      ╚═╝ ╚══════╝    ╚═╝    ╚══════╝ ╚═╝  ╚═╝ ╚═╝ ╚═╝  ╚═══╝  ╚═════╝  \n",
    "# removing values that dont make sense, etc\n",
    "\n",
    "\n",
    "#█   █▀█ █▀▀ ▄▀█ ▀█▀ █ █▀█ █▄ █ \n",
    "#█▄▄ █▄█ █▄▄ █▀█  █  █ █▄█ █ ▀█ \n",
    "# removing invalid locations\n",
    "\n",
    "#checks if location id is in the bad location list\n",
    "@F.udf(\"boolean\")\n",
    "def bad_location(LocationID):\n",
    "    if(LocationID):\n",
    "        return (int(LocationID) not in bad_locations)\n",
    "    else:\n",
    "        return False\n",
    "\n",
    "#for each year and each taxi \n",
    "for year in years:\n",
    "    for month in range(covid_started[0], months_in_year + 1): \n",
    "        for taxi_i in range(0,len(taxi_file_names)):\n",
    "            if( dfm[year][month][taxi_i] ):\n",
    "                \n",
    "                print(\"processing \" + str(year) + \"-\" + str(month) + \" \" + taxi_file_names[taxi_i])\n",
    "                dfm[year][month][taxi_i] = dfm[year][month][taxi_i]\\\n",
    "                    .filter(\n",
    "                        (bad_location(col(\"PULocationID\"))) &\n",
    "                        (bad_location(col(\"DOLocationID\")))\n",
    "                           )"
   ]
  },
  {
   "cell_type": "code",
   "execution_count": 15,
   "metadata": {},
   "outputs": [],
   "source": [
    "#for year in years:\n",
    "#    for taxi_i in [fhv_i, hvf_i]:\n",
    "#        for month in range(covid_started[0], months_in_year + 1): \n",
    "#            if( dfm[year][month][taxi_i] ):\n",
    "#                dfm[year][month][taxi_i] = dfm[year][month][taxi_i]\\\n",
    "#                .filter(\n",
    "#                    (col(\"SR_flag\").isNull())\n",
    "#                ).drop(\"SR_flag\")\n",
    "#            "
   ]
  },
  {
   "cell_type": "code",
   "execution_count": 16,
   "metadata": {},
   "outputs": [],
   "source": [
    "#the following processing only makes sense for yellow and green taxis\n",
    "\n",
    "\n",
    "#█▀█ ▄▀█ █▀ █▀ █▀▀ █▄ █ █▀▀ █▀▀ █▀█ \n",
    "#█▀▀ █▀█ ▄█ ▄█ ██▄ █ ▀█ █▄█ ██▄ █▀▄ \n",
    "# removing invalid passenger counts\n",
    "\n",
    "#█▀█ ▄▀█ ▀█▀ █▀▀ █▀ \n",
    "#█▀▄ █▀█  █  ██▄ ▄█ \n",
    "# only keep standard rates\n",
    "\n",
    "#█▀█ ▄▀█ █▄█ █▀▄▀█ █▀▀ █▄ █ ▀█▀ \n",
    "#█▀▀ █▀█  █  █ ▀ █ ██▄ █ ▀█  █  \n",
    "# payment types which arent helpful\n",
    "for year in years:\n",
    "    for month in range(covid_started[0], months_in_year + 1): \n",
    "        for taxi_i in [ywl_i, grn_i]:\n",
    "            if( dfm[year][month][taxi_i] ):\n",
    "                dfm[year][month][taxi_i] = dfm[year][month][taxi_i]\\\n",
    "                .filter(\n",
    "                    (\n",
    "                        (col(\"payment_type\") == 1) | \n",
    "                        (col(\"payment_type\") == 0)\n",
    "                    ) &\n",
    "                    (col(\"passenger_count\") > 0) &\n",
    "                    (col(\"RateCodeID\") == 1)\n",
    "                )#.drop(\"RateCodeID\",\"passenger_count\",\"payment_type\")\n",
    "                 \n",
    "                \n",
    "                \n"
   ]
  },
  {
   "cell_type": "code",
   "execution_count": 17,
   "metadata": {},
   "outputs": [
    {
     "name": "stderr",
     "output_type": "stream",
     "text": [
      "Traceback (most recent call last):                                  (0 + 1) / 1]\n",
      "  File \"/home/andre/.local/lib/python3.8/site-packages/pyspark/python/lib/pyspark.zip/pyspark/daemon.py\", line 186, in manager\n",
      "  File \"/home/andre/.local/lib/python3.8/site-packages/pyspark/python/lib/pyspark.zip/pyspark/daemon.py\", line 74, in worker\n",
      "  File \"/home/andre/.local/lib/python3.8/site-packages/pyspark/python/lib/pyspark.zip/pyspark/worker.py\", line 643, in main\n",
      "    if read_int(infile) == SpecialLengths.END_OF_STREAM:\n",
      "  File \"/home/andre/.local/lib/python3.8/site-packages/pyspark/python/lib/pyspark.zip/pyspark/serializers.py\", line 564, in read_int\n",
      "    raise EOFError\n",
      "EOFError\n",
      "                                                                                \r"
     ]
    },
    {
     "name": "stdout",
     "output_type": "stream",
     "text": [
      "[2.5, 65.2]\n"
     ]
    },
    {
     "data": {
      "image/png": "[encoded data removed]",
      "text/plain": [
       "<Figure size 432x288 with 1 Axes>"
      ]
     },
     "metadata": {
      "needs_background": "light"
     },
     "output_type": "display_data"
    }
   ],
   "source": [
    "#█▀▀ █▀█ █▀ ▀█▀    ▄▀█ █▀▄▀█ █▀█ █ █ █▄ █ ▀█▀ \n",
    "#█▄▄ █▄█ ▄█  █     █▀█ █ ▀ █ █▄█ █▄█ █ ▀█  █  \n",
    "# cost are sometimes bad, graphing what it looks like atm\n",
    "\n",
    "if plotting:\n",
    "    \n",
    "    dft = dfm[2019][5][ywl_i].sample(False, 0.1, seed=0).limit(10000)\n",
    "    \n",
    "    #extracting all the fare amounts\n",
    "    data = dft.select('fare_amount').select('fare_amount').toPandas()['fare_amount']\n",
    "    \n",
    "    #checking max and min\n",
    "    print([data.min(),data.max()])\n",
    "    \n",
    "    #taking the log transform \n",
    "    data = data.apply(lambda x: log(x) if x else 0)\n",
    "    \n",
    "    #plotting the log of fare amounts to view distribution\n",
    "    plt.xlim(data.quantile(outlier_percent)-log(fare_amount_graph_buffer), data.quantile(1-outlier_percent)+log(fare_amount_graph_buffer))\n",
    "    sns.distplot(data, bins= round((data.max()-data.min()))*4)\n",
    "    plt.show()\n",
    "    \n",
    "    \n",
    "    #dfm[2019][ywl_i].select(\"fare_amount\").summary().show()"
   ]
  },
  {
   "cell_type": "code",
   "execution_count": 18,
   "metadata": {},
   "outputs": [
    {
     "name": "stdout",
     "output_type": "stream",
     "text": [
      "[0.0, 21.86]\n"
     ]
    },
    {
     "name": "stderr",
     "output_type": "stream",
     "text": [
      "Traceback (most recent call last):\n",
      "  File \"/home/andre/.local/lib/python3.8/site-packages/pyspark/python/lib/pyspark.zip/pyspark/daemon.py\", line 186, in manager\n",
      "  File \"/home/andre/.local/lib/python3.8/site-packages/pyspark/python/lib/pyspark.zip/pyspark/daemon.py\", line 74, in worker\n",
      "  File \"/home/andre/.local/lib/python3.8/site-packages/pyspark/python/lib/pyspark.zip/pyspark/worker.py\", line 643, in main\n",
      "    if read_int(infile) == SpecialLengths.END_OF_STREAM:\n",
      "  File \"/home/andre/.local/lib/python3.8/site-packages/pyspark/python/lib/pyspark.zip/pyspark/serializers.py\", line 564, in read_int\n",
      "    raise EOFError\n",
      "EOFError\n"
     ]
    },
    {
     "data": {
      "image/png": "[encoded data removed]",
      "text/plain": [
       "<Figure size 432x288 with 1 Axes>"
      ]
     },
     "metadata": {
      "needs_background": "light"
     },
     "output_type": "display_data"
    }
   ],
   "source": [
    "#▀█▀ █▀█ █ █▀█    █▀▄ █ █▀ ▀█▀ ▄▀█ █▄ █ █▀▀ █▀▀ \n",
    "# █  █▀▄ █ █▀▀    █▄▀ █ ▄█  █  █▀█ █ ▀█ █▄▄ ██▄ \n",
    "#\n",
    "\n",
    "if plotting:\n",
    "        \n",
    "    #extracting all the fare amounts\n",
    "    data = dft.select('trip_distance').toPandas()['trip_distance']\n",
    "    \n",
    "    #checking max and min\n",
    "    print([data.min(),data.max()])\n",
    "    \n",
    "    #taking the log transform \n",
    "    data = data.apply(lambda x: log(x) if x else 0)\n",
    "    \n",
    "    #plotting the log of fare amounts to view distribution\n",
    "    plt.xlim(data.quantile(outlier_percent)-log(fare_amount_graph_buffer), data.quantile(1-outlier_percent)+log(fare_amount_graph_buffer))\n",
    "    sns.distplot(data, bins= round((data.max()-data.min()))*4)\n",
    "    plt.show()\n",
    "    \n",
    "    \n",
    "    #dfm[2019][ywl_i].select(\"fare_amount\").summary().show()"
   ]
  },
  {
   "cell_type": "code",
   "execution_count": 19,
   "metadata": {
    "scrolled": true
   },
   "outputs": [
    {
     "name": "stderr",
     "output_type": "stream",
     "text": [
      "Traceback (most recent call last):                                  (0 + 8) / 8]\n",
      "  File \"/home/andre/.local/lib/python3.8/site-packages/pyspark/python/lib/pyspark.zip/pyspark/daemon.py\", line 186, in manager\n",
      "  File \"/home/andre/.local/lib/python3.8/site-packages/pyspark/python/lib/pyspark.zip/pyspark/daemon.py\", line 74, in worker\n",
      "  File \"/home/andre/.local/lib/python3.8/site-packages/pyspark/python/lib/pyspark.zip/pyspark/worker.py\", line 643, in main\n",
      "    if read_int(infile) == SpecialLengths.END_OF_STREAM:\n",
      "  File \"/home/andre/.local/lib/python3.8/site-packages/pyspark/python/lib/pyspark.zip/pyspark/serializers.py\", line 564, in read_int\n",
      "    raise EOFError\n",
      "EOFError\n",
      "Traceback (most recent call last):\n",
      "  File \"/home/andre/.local/lib/python3.8/site-packages/pyspark/python/lib/pyspark.zip/pyspark/daemon.py\", line 186, in manager\n",
      "  File \"/home/andre/.local/lib/python3.8/site-packages/pyspark/python/lib/pyspark.zip/pyspark/daemon.py\", line 74, in worker\n",
      "  File \"/home/andre/.local/lib/python3.8/site-packages/pyspark/python/lib/pyspark.zip/pyspark/worker.py\", line 643, in main\n",
      "    if read_int(infile) == SpecialLengths.END_OF_STREAM:\n",
      "  File \"/home/andre/.local/lib/python3.8/site-packages/pyspark/python/lib/pyspark.zip/pyspark/serializers.py\", line 564, in read_int\n",
      "    raise EOFError\n",
      "EOFError\n",
      "Traceback (most recent call last):\n",
      "  File \"/home/andre/.local/lib/python3.8/site-packages/pyspark/python/lib/pyspark.zip/pyspark/daemon.py\", line 186, in manager\n",
      "  File \"/home/andre/.local/lib/python3.8/site-packages/pyspark/python/lib/pyspark.zip/pyspark/daemon.py\", line 74, in worker\n",
      "  File \"/home/andre/.local/lib/python3.8/site-packages/pyspark/python/lib/pyspark.zip/pyspark/worker.py\", line 643, in main\n",
      "    if read_int(infile) == SpecialLengths.END_OF_STREAM:\n",
      "  File \"/home/andre/.local/lib/python3.8/site-packages/pyspark/python/lib/pyspark.zip/pyspark/serializers.py\", line 564, in read_int\n",
      "    raise EOFError\n",
      "EOFError\n",
      "Traceback (most recent call last):\n",
      "  File \"/home/andre/.local/lib/python3.8/site-packages/pyspark/python/lib/pyspark.zip/pyspark/daemon.py\", line 186, in manager\n",
      "  File \"/home/andre/.local/lib/python3.8/site-packages/pyspark/python/lib/pyspark.zip/pyspark/daemon.py\", line 74, in worker\n",
      "  File \"/home/andre/.local/lib/python3.8/site-packages/pyspark/python/lib/pyspark.zip/pyspark/worker.py\", line 643, in main\n",
      "    if read_int(infile) == SpecialLengths.END_OF_STREAM:\n",
      "  File \"/home/andre/.local/lib/python3.8/site-packages/pyspark/python/lib/pyspark.zip/pyspark/serializers.py\", line 564, in read_int\n",
      "    raise EOFError\n",
      "EOFError\n",
      "Traceback (most recent call last):\n",
      "  File \"/home/andre/.local/lib/python3.8/site-packages/pyspark/python/lib/pyspark.zip/pyspark/daemon.py\", line 186, in manager\n",
      "  File \"/home/andre/.local/lib/python3.8/site-packages/pyspark/python/lib/pyspark.zip/pyspark/daemon.py\", line 74, in worker\n",
      "  File \"/home/andre/.local/lib/python3.8/site-packages/pyspark/python/lib/pyspark.zip/pyspark/worker.py\", line 643, in main\n",
      "    if read_int(infile) == SpecialLengths.END_OF_STREAM:\n",
      "  File \"/home/andre/.local/lib/python3.8/site-packages/pyspark/python/lib/pyspark.zip/pyspark/serializers.py\", line 564, in read_int\n",
      "    raise EOFError\n",
      "EOFError\n",
      "Traceback (most recent call last):\n",
      "  File \"/home/andre/.local/lib/python3.8/site-packages/pyspark/python/lib/pyspark.zip/pyspark/daemon.py\", line 186, in manager\n",
      "  File \"/home/andre/.local/lib/python3.8/site-packages/pyspark/python/lib/pyspark.zip/pyspark/daemon.py\", line 74, in worker\n",
      "  File \"/home/andre/.local/lib/python3.8/site-packages/pyspark/python/lib/pyspark.zip/pyspark/worker.py\", line 643, in main\n",
      "    if read_int(infile) == SpecialLengths.END_OF_STREAM:\n",
      "  File \"/home/andre/.local/lib/python3.8/site-packages/pyspark/python/lib/pyspark.zip/pyspark/serializers.py\", line 564, in read_int\n",
      "    raise EOFError\n",
      "EOFError\n",
      "Traceback (most recent call last):\n",
      "  File \"/home/andre/.local/lib/python3.8/site-packages/pyspark/python/lib/pyspark.zip/pyspark/daemon.py\", line 186, in manager\n",
      "  File \"/home/andre/.local/lib/python3.8/site-packages/pyspark/python/lib/pyspark.zip/pyspark/daemon.py\", line 74, in worker\n",
      "  File \"/home/andre/.local/lib/python3.8/site-packages/pyspark/python/lib/pyspark.zip/pyspark/worker.py\", line 643, in main\n",
      "    if read_int(infile) == SpecialLengths.END_OF_STREAM:\n",
      "  File \"/home/andre/.local/lib/python3.8/site-packages/pyspark/python/lib/pyspark.zip/pyspark/serializers.py\", line 564, in read_int\n",
      "    raise EOFError\n",
      "EOFError\n",
      "Traceback (most recent call last):==========================>       (7 + 1) / 8]\n",
      "  File \"/home/andre/.local/lib/python3.8/site-packages/pyspark/python/lib/pyspark.zip/pyspark/daemon.py\", line 186, in manager\n",
      "  File \"/home/andre/.local/lib/python3.8/site-packages/pyspark/python/lib/pyspark.zip/pyspark/daemon.py\", line 74, in worker\n",
      "  File \"/home/andre/.local/lib/python3.8/site-packages/pyspark/python/lib/pyspark.zip/pyspark/worker.py\", line 643, in main\n",
      "    if read_int(infile) == SpecialLengths.END_OF_STREAM:\n",
      "  File \"/home/andre/.local/lib/python3.8/site-packages/pyspark/python/lib/pyspark.zip/pyspark/serializers.py\", line 564, in read_int\n",
      "    raise EOFError\n",
      "EOFError\n",
      "                                                                                \r"
     ]
    },
    {
     "data": {
      "image/png": "[encoded data removed]",
      "text/plain": [
       "<Figure size 432x288 with 1 Axes>"
      ]
     },
     "metadata": {
      "needs_background": "light"
     },
     "output_type": "display_data"
    }
   ],
   "source": [
    "if plotting:\n",
    "    \n",
    "    #plotting to view fare cost vs trip distance to see if there are many outliers, there are a few\n",
    "    data = dft.select('fare_amount','trip_distance').toPandas()\n",
    "    data.plot.scatter(y='fare_amount',x='trip_distance')"
   ]
  },
  {
   "cell_type": "code",
   "execution_count": 20,
   "metadata": {},
   "outputs": [
    {
     "data": {
      "image/png": "[encoded data removed]",
      "text/plain": [
       "<Figure size 432x288 with 1 Axes>"
      ]
     },
     "metadata": {
      "needs_background": "light"
     },
     "output_type": "display_data"
    }
   ],
   "source": [
    "if plotting:\n",
    "        \n",
    "    #plots a new fare amount vs trip distance graph to see if the majority of outliers have been removed\n",
    "    dft = dfm[2020][5][grn_i].sample(False, 0.1, seed=0).limit(10000)\n",
    "    data = dft.select('fare_amount','trip_distance').toPandas()\n",
    "    data.plot.scatter(y='fare_amount',x='trip_distance')"
   ]
  },
  {
   "cell_type": "code",
   "execution_count": 21,
   "metadata": {},
   "outputs": [
    {
     "name": "stdout",
     "output_type": "stream",
     "text": [
      "12.18879650000008 seconds have elapsed\n",
      "21.766700899999705 seconds have elapsed total\n"
     ]
    }
   ],
   "source": [
    "#prints how much time has elapsed\n",
    "print(str(time.perf_counter() - start_time) + \" seconds have elapsed\")\n",
    "print(str(time.perf_counter() - start_time_og) + \" seconds have elapsed total\")\n",
    "start_time = time.perf_counter()"
   ]
  },
  {
   "cell_type": "code",
   "execution_count": 22,
   "metadata": {
    "scrolled": true
   },
   "outputs": [
    {
     "name": "stdout",
     "output_type": "stream",
     "text": [
      "processing 2019-2 yellow\n"
     ]
    },
    {
     "name": "stderr",
     "output_type": "stream",
     "text": [
      "                                                                                \r"
     ]
    },
    {
     "name": "stdout",
     "output_type": "stream",
     "text": [
      "[[3.5, 41.5], [0.24, 13.0]]\n",
      "processing 2019-3 yellow\n"
     ]
    },
    {
     "name": "stderr",
     "output_type": "stream",
     "text": [
      "                                                                                \r"
     ]
    },
    {
     "name": "stdout",
     "output_type": "stream",
     "text": [
      "[[3.5, 41.5], [0.24, 12.93]]\n",
      "processing 2019-4 yellow\n"
     ]
    },
    {
     "name": "stderr",
     "output_type": "stream",
     "text": [
      "                                                                                \r"
     ]
    },
    {
     "name": "stdout",
     "output_type": "stream",
     "text": [
      "[[3.5, 40.5], [0.25, 12.4]]\n",
      "processing 2019-5 yellow\n"
     ]
    },
    {
     "name": "stderr",
     "output_type": "stream",
     "text": [
      "                                                                                \r"
     ]
    },
    {
     "name": "stdout",
     "output_type": "stream",
     "text": [
      "[[3.5, 41.5], [0.23, 12.4]]\n",
      "processing 2019-6 yellow\n"
     ]
    },
    {
     "name": "stderr",
     "output_type": "stream",
     "text": [
      "                                                                                \r"
     ]
    },
    {
     "name": "stdout",
     "output_type": "stream",
     "text": [
      "[[3.5, 41.2], [0.2, 12.24]]\n",
      "processing 2019-7 yellow\n"
     ]
    },
    {
     "name": "stderr",
     "output_type": "stream",
     "text": [
      "                                                                                \r"
     ]
    },
    {
     "name": "stdout",
     "output_type": "stream",
     "text": [
      "[[3.5, 40.5], [0.1, 12.0]]\n",
      "processing 2019-8 yellow\n"
     ]
    },
    {
     "name": "stderr",
     "output_type": "stream",
     "text": [
      "                                                                                \r"
     ]
    },
    {
     "name": "stdout",
     "output_type": "stream",
     "text": [
      "[[3.5, 39.0], [0.0, 11.69]]\n",
      "processing 2019-9 yellow\n"
     ]
    },
    {
     "name": "stderr",
     "output_type": "stream",
     "text": [
      "                                                                                \r"
     ]
    },
    {
     "name": "stdout",
     "output_type": "stream",
     "text": [
      "[[3.5, 39.2], [0.05, 11.48]]\n",
      "processing 2019-10 yellow\n"
     ]
    },
    {
     "name": "stderr",
     "output_type": "stream",
     "text": [
      "                                                                                \r"
     ]
    },
    {
     "name": "stdout",
     "output_type": "stream",
     "text": [
      "[[3.5, 38.2], [0.18, 11.19]]\n",
      "processing 2019-11 yellow\n"
     ]
    },
    {
     "name": "stderr",
     "output_type": "stream",
     "text": [
      "                                                                                \r"
     ]
    },
    {
     "name": "stdout",
     "output_type": "stream",
     "text": [
      "[[3.5, 38.0], [0.11, 11.11]]\n",
      "processing 2019-12 yellow\n"
     ]
    },
    {
     "name": "stderr",
     "output_type": "stream",
     "text": [
      "                                                                                \r"
     ]
    },
    {
     "name": "stdout",
     "output_type": "stream",
     "text": [
      "[[3.5, 38.5], [0.1, 11.48]]\n",
      "combined quantile:\n",
      "[[3.5, 39.96363636363636], [0.15454545454545457, 11.992727272727272]]\n",
      "processing 2019-2 green\n"
     ]
    },
    {
     "name": "stderr",
     "output_type": "stream",
     "text": [
      "                                                                                \r"
     ]
    },
    {
     "name": "stdout",
     "output_type": "stream",
     "text": [
      "[[3.0, 70.5], [0.0, 23.38]]\n",
      "processing 2019-3 green\n"
     ]
    },
    {
     "name": "stderr",
     "output_type": "stream",
     "text": [
      "                                                                                \r"
     ]
    },
    {
     "name": "stdout",
     "output_type": "stream",
     "text": [
      "[[3.0, 71.2], [0.0, 22.8]]\n",
      "processing 2019-4 green\n"
     ]
    },
    {
     "name": "stderr",
     "output_type": "stream",
     "text": [
      "                                                                                \r"
     ]
    },
    {
     "name": "stdout",
     "output_type": "stream",
     "text": [
      "[[3.0, 68.0], [0.0, 21.1]]\n",
      "processing 2019-5 green\n"
     ]
    },
    {
     "name": "stderr",
     "output_type": "stream",
     "text": [
      "                                                                                \r"
     ]
    },
    {
     "name": "stdout",
     "output_type": "stream",
     "text": [
      "[[3.0, 71.0], [0.0, 21.56]]\n",
      "processing 2019-6 green\n"
     ]
    },
    {
     "name": "stderr",
     "output_type": "stream",
     "text": [
      "                                                                                \r"
     ]
    },
    {
     "name": "stdout",
     "output_type": "stream",
     "text": [
      "[[3.5, 72.0], [0.0, 21.78]]\n",
      "processing 2019-7 green\n"
     ]
    },
    {
     "name": "stderr",
     "output_type": "stream",
     "text": [
      "                                                                                \r"
     ]
    },
    {
     "name": "stdout",
     "output_type": "stream",
     "text": [
      "[[3.0, 72.5], [0.0, 22.66]]\n",
      "processing 2019-8 green\n"
     ]
    },
    {
     "name": "stderr",
     "output_type": "stream",
     "text": [
      "                                                                                \r"
     ]
    },
    {
     "name": "stdout",
     "output_type": "stream",
     "text": [
      "[[3.0, 66.0], [0.0, 21.01]]\n",
      "processing 2019-9 green\n"
     ]
    },
    {
     "name": "stderr",
     "output_type": "stream",
     "text": [
      "                                                                                \r"
     ]
    },
    {
     "name": "stdout",
     "output_type": "stream",
     "text": [
      "[[3.0, 61.5], [0.0, 19.47]]\n",
      "processing 2019-10 green\n"
     ]
    },
    {
     "name": "stderr",
     "output_type": "stream",
     "text": [
      "                                                                                \r"
     ]
    },
    {
     "name": "stdout",
     "output_type": "stream",
     "text": [
      "[[3.0, 63.5], [0.0, 20.17]]\n",
      "processing 2019-11 green\n"
     ]
    },
    {
     "name": "stderr",
     "output_type": "stream",
     "text": [
      "                                                                                \r"
     ]
    },
    {
     "name": "stdout",
     "output_type": "stream",
     "text": [
      "[[3.0, 63.5], [0.0, 20.52]]\n",
      "processing 2019-12 green\n"
     ]
    },
    {
     "name": "stderr",
     "output_type": "stream",
     "text": [
      "                                                                                \r"
     ]
    },
    {
     "name": "stdout",
     "output_type": "stream",
     "text": [
      "[[3.0, 65.0], [0.0, 20.78]]\n",
      "combined quantile:\n",
      "[[3.0454545454545454, 67.7], [0.0, 21.384545454545457]]\n",
      "processing 2020-2 yellow\n"
     ]
    },
    {
     "name": "stderr",
     "output_type": "stream",
     "text": [
      "                                                                                \r"
     ]
    },
    {
     "name": "stdout",
     "output_type": "stream",
     "text": [
      "[[3.5, 36.5], [0.17, 11.12]]\n",
      "processing 2020-3 yellow\n"
     ]
    },
    {
     "name": "stderr",
     "output_type": "stream",
     "text": [
      "                                                                                \r"
     ]
    },
    {
     "name": "stdout",
     "output_type": "stream",
     "text": [
      "[[3.5, 38.0], [0.0, 11.63]]\n",
      "processing 2020-4 yellow\n"
     ]
    },
    {
     "name": "stderr",
     "output_type": "stream",
     "text": [
      "                                                                                \r"
     ]
    },
    {
     "name": "stdout",
     "output_type": "stream",
     "text": [
      "[[3.0, 52.5], [0.0, 17.47]]\n",
      "processing 2020-5 yellow\n"
     ]
    },
    {
     "name": "stderr",
     "output_type": "stream",
     "text": [
      "                                                                                \r"
     ]
    },
    {
     "name": "stdout",
     "output_type": "stream",
     "text": [
      "[[3.0, 51.5], [0.0, 16.16]]\n",
      "processing 2020-6 yellow\n"
     ]
    },
    {
     "name": "stderr",
     "output_type": "stream",
     "text": [
      "                                                                                \r"
     ]
    },
    {
     "name": "stdout",
     "output_type": "stream",
     "text": [
      "[[3.0, 49.2], [0.0, 14.9]]\n",
      "processing 2020-7 yellow\n"
     ]
    },
    {
     "name": "stderr",
     "output_type": "stream",
     "text": [
      "                                                                                \r"
     ]
    },
    {
     "name": "stdout",
     "output_type": "stream",
     "text": [
      "[[3.0, 48.2], [0.0, 13.8]]\n",
      "processing 2020-8 yellow\n"
     ]
    },
    {
     "name": "stderr",
     "output_type": "stream",
     "text": [
      "                                                                                \r"
     ]
    },
    {
     "name": "stdout",
     "output_type": "stream",
     "text": [
      "[[3.5, 46.0], [0.0, 13.0]]\n",
      "processing 2020-9 yellow\n"
     ]
    },
    {
     "name": "stderr",
     "output_type": "stream",
     "text": [
      "                                                                                \r"
     ]
    },
    {
     "name": "stdout",
     "output_type": "stream",
     "text": [
      "[[3.5, 41.5], [0.0, 12.13]]\n",
      "processing 2020-10 yellow\n"
     ]
    },
    {
     "name": "stderr",
     "output_type": "stream",
     "text": [
      "                                                                                \r"
     ]
    },
    {
     "name": "stdout",
     "output_type": "stream",
     "text": [
      "[[3.5, 39.5], [0.0, 11.6]]\n",
      "processing 2020-11 yellow\n"
     ]
    },
    {
     "name": "stderr",
     "output_type": "stream",
     "text": [
      "                                                                                \r"
     ]
    },
    {
     "name": "stdout",
     "output_type": "stream",
     "text": [
      "[[3.5, 39.2], [0.0, 11.78]]\n",
      "processing 2020-12 yellow\n"
     ]
    },
    {
     "name": "stderr",
     "output_type": "stream",
     "text": [
      "                                                                                \r"
     ]
    },
    {
     "name": "stdout",
     "output_type": "stream",
     "text": [
      "[[3.5, 40.0], [0.0, 11.97]]\n",
      "combined quantile:\n",
      "[[3.3181818181818183, 43.82727272727272], [0.015454545454545455, 13.23272727272727]]\n",
      "processing 2020-2 green\n"
     ]
    },
    {
     "name": "stderr",
     "output_type": "stream",
     "text": [
      "                                                                                \r"
     ]
    },
    {
     "name": "stdout",
     "output_type": "stream",
     "text": [
      "[[3.0, 61.5], [0.0, 19.81]]\n",
      "processing 2020-3 green\n"
     ]
    },
    {
     "name": "stderr",
     "output_type": "stream",
     "text": [
      "\r",
      "[Stage 78:==================================>                       (3 + 2) / 5]\r",
      "\r",
      "                                                                                \r"
     ]
    },
    {
     "name": "stdout",
     "output_type": "stream",
     "text": [
      "[[3.0, 70.5], [0.0, 24.0]]\n",
      "processing 2020-4 green\n",
      "[[2.5, 83.0], [0.0, 30.04]]\n",
      "processing 2020-5 green\n",
      "[[2.5, 82.5], [0.0, 29.95]]\n",
      "processing 2020-6 green\n",
      "[[2.5, 81.5], [0.0, 28.31]]\n",
      "processing 2020-7 green\n",
      "[[2.5, 81.5], [0.0, 28.17]]\n",
      "processing 2020-8 green\n",
      "[[2.5, 82.5], [0.0, 29.3]]\n",
      "processing 2020-9 green\n",
      "[[2.5, 83.0], [0.0, 28.67]]\n",
      "processing 2020-10 green\n",
      "[[2.5, 82.0], [0.0, 27.03]]\n",
      "processing 2020-11 green\n",
      "[[2.5, 79.0], [0.0, 26.18]]\n",
      "processing 2020-12 green\n",
      "[[2.5, 83.5], [0.0, 29.07]]\n",
      "combined quantile:\n",
      "[[2.590909090909091, 79.13636363636364], [0.0, 27.320909090909087]]\n"
     ]
    }
   ],
   "source": [
    "#ass fare amount is obviously dependent on trip distance, the one quantiles cant be calculated after processing the other set\n",
    "#so they must both be processed in the same filter\n",
    "\n",
    "#making quantile array\n",
    "qt = {}\n",
    "\n",
    "#for each year, create sub array\n",
    "for year in years:\n",
    "    qt[year] = {}\n",
    "    \n",
    "    #for each taxi create another sub array\n",
    "    for taxi_i in [ywl_i, grn_i]:\n",
    "        qt[year][taxi_i] = {}\n",
    "        \n",
    "        qt_combined = [[0,0],[0,0]]\n",
    "        count = 0\n",
    "        \n",
    "        #for each month\n",
    "        for month in range(covid_started[0], months_in_year + 1): \n",
    "            \n",
    "            #set initally as null\n",
    "            qt[year][taxi_i][month] = None\n",
    "            \n",
    "            #checks data exists\n",
    "            if( dfm[year][month][taxi_i] ):\n",
    "                \n",
    "                print(\"processing \" + str(year) + \"-\" + str(month) + \" \" + taxi_file_names[taxi_i])\n",
    "                \n",
    "                qt[year][taxi_i][month] = dfm[year][month][taxi_i].approxQuantile(\n",
    "                    [\"fare_amount\",'trip_distance'], \n",
    "                    [outlier_percent,1-outlier_percent], \n",
    "                    percentile_accuracy\n",
    "                )\n",
    "                \n",
    "                for i in range(0,2):\n",
    "                    for j in range(0,2):\n",
    "                        qt_combined[i][j] += qt[year][taxi_i][month][i][j]\n",
    "                    \n",
    "                count += 1\n",
    "                print(qt[year][taxi_i][month])\n",
    "                \n",
    "                \n",
    "        for i in range(0,2):\n",
    "            for j in range(0,2):\n",
    "                qt_combined[i][j] = qt_combined[i][j]/count\n",
    "\n",
    "        \n",
    "        #2.5 is the miniumum fare_amount so if the fare quantile was lower than the minimum, it is raised\n",
    "        if qt_combined[0][0] < 2.5 :\n",
    "            qt_combined[0][0] = 2.5\n",
    "                \n",
    "        #less than a 0km trip shouldnt be counted so min of distance it set to 0 if it was lower.\n",
    "        if qt_combined[1][0] < 0 :\n",
    "            qt_combined[1][0] = 0\n",
    "                         \n",
    "        print(\"combined quantile:\")\n",
    "        print(qt_combined)               \n",
    "            \n",
    "            \n",
    "        #for each month\n",
    "        for month in range(covid_started[0], months_in_year + 1): \n",
    "                                \n",
    "                    \n",
    "                    \n",
    "                #only keeps the middle percent% (depends on what percent was decided) to remove outliers \n",
    "                dfm[year][month][taxi_i] = dfm[year][month][taxi_i].filter(\n",
    "                    (col(\"fare_amount\") > qt_combined[0][0]) & \n",
    "                    (col(\"fare_amount\") < qt_combined[0][1]) &                \n",
    "                    (col('trip_distance') > qt_combined[1][0]) & \n",
    "                    (col('trip_distance') < qt_combined[1][1])\n",
    "                )#.drop(\"fare_amount\",\"total_amount\"'trip_distance')\n"
   ]
  },
  {
   "cell_type": "code",
   "execution_count": 23,
   "metadata": {},
   "outputs": [
    {
     "name": "stdout",
     "output_type": "stream",
     "text": [
      "284.5767501999999 seconds have elapsed\n",
      "306.34473479999997 seconds have elapsed total\n"
     ]
    }
   ],
   "source": [
    "#prints how much time has elapsed\n",
    "print(str(time.perf_counter() - start_time) + \" seconds have elapsed\")\n",
    "print(str(time.perf_counter() - start_time_og) + \" seconds have elapsed total\")\n",
    "start_time = time.perf_counter()"
   ]
  },
  {
   "cell_type": "code",
   "execution_count": 24,
   "metadata": {},
   "outputs": [
    {
     "name": "stdout",
     "output_type": "stream",
     "text": [
      "{2019: {0: {2: [[3.5, 41.5], [0.24, 13.0]], 3: [[3.5, 41.5], [0.24, 12.93]], 4: [[3.5, 40.5], [0.25, 12.4]], 5: [[3.5, 41.5], [0.23, 12.4]], 6: [[3.5, 41.2], [0.2, 12.24]], 7: [[3.5, 40.5], [0.1, 12.0]], 8: [[3.5, 39.0], [0.0, 11.69]], 9: [[3.5, 39.2], [0.05, 11.48]], 10: [[3.5, 38.2], [0.18, 11.19]], 11: [[3.5, 38.0], [0.11, 11.11]], 12: [[3.5, 38.5], [0.1, 11.48]]}, 1: {2: [[3.0, 70.5], [0.0, 23.38]], 3: [[3.0, 71.2], [0.0, 22.8]], 4: [[3.0, 68.0], [0.0, 21.1]], 5: [[3.0, 71.0], [0.0, 21.56]], 6: [[3.5, 72.0], [0.0, 21.78]], 7: [[3.0, 72.5], [0.0, 22.66]], 8: [[3.0, 66.0], [0.0, 21.01]], 9: [[3.0, 61.5], [0.0, 19.47]], 10: [[3.0, 63.5], [0.0, 20.17]], 11: [[3.0, 63.5], [0.0, 20.52]], 12: [[3.0, 65.0], [0.0, 20.78]]}}, 2020: {0: {2: [[3.5, 36.5], [0.17, 11.12]], 3: [[3.5, 38.0], [0.0, 11.63]], 4: [[3.0, 52.5], [0.0, 17.47]], 5: [[3.0, 51.5], [0.0, 16.16]], 6: [[3.0, 49.2], [0.0, 14.9]], 7: [[3.0, 48.2], [0.0, 13.8]], 8: [[3.5, 46.0], [0.0, 13.0]], 9: [[3.5, 41.5], [0.0, 12.13]], 10: [[3.5, 39.5], [0.0, 11.6]], 11: [[3.5, 39.2], [0.0, 11.78]], 12: [[3.5, 40.0], [0.0, 11.97]]}, 1: {2: [[3.0, 61.5], [0.0, 19.81]], 3: [[3.0, 70.5], [0.0, 24.0]], 4: [[2.5, 83.0], [0.0, 30.04]], 5: [[2.5, 82.5], [0.0, 29.95]], 6: [[2.5, 81.5], [0.0, 28.31]], 7: [[2.5, 81.5], [0.0, 28.17]], 8: [[2.5, 82.5], [0.0, 29.3]], 9: [[2.5, 83.0], [0.0, 28.67]], 10: [[2.5, 82.0], [0.0, 27.03]], 11: [[2.5, 79.0], [0.0, 26.18]], 12: [[2.5, 83.5], [0.0, 29.07]]}}}\n"
     ]
    }
   ],
   "source": [
    "print(qt)"
   ]
  },
  {
   "cell_type": "code",
   "execution_count": 25,
   "metadata": {},
   "outputs": [
    {
     "data": {
      "text/plain": [
       "[[2.590909090909091, 79.13636363636364], [0.0, 27.320909090909087]]"
      ]
     },
     "execution_count": 25,
     "metadata": {},
     "output_type": "execute_result"
    }
   ],
   "source": [
    "qt_combined"
   ]
  },
  {
   "cell_type": "code",
   "execution_count": 26,
   "metadata": {},
   "outputs": [
    {
     "name": "stderr",
     "output_type": "stream",
     "text": [
      "Traceback (most recent call last):                                  (0 + 8) / 8]\n",
      "  File \"/home/andre/.local/lib/python3.8/site-packages/pyspark/python/lib/pyspark.zip/pyspark/daemon.py\", line 186, in manager\n",
      "  File \"/home/andre/.local/lib/python3.8/site-packages/pyspark/python/lib/pyspark.zip/pyspark/daemon.py\", line 74, in worker\n",
      "  File \"/home/andre/.local/lib/python3.8/site-packages/pyspark/python/lib/pyspark.zip/pyspark/worker.py\", line 643, in main\n",
      "    if read_int(infile) == SpecialLengths.END_OF_STREAM:\n",
      "  File \"/home/andre/.local/lib/python3.8/site-packages/pyspark/python/lib/pyspark.zip/pyspark/serializers.py\", line 564, in read_int\n",
      "    raise EOFError\n",
      "EOFError\n",
      "Traceback (most recent call last):                                  (1 + 7) / 8]\n",
      "  File \"/home/andre/.local/lib/python3.8/site-packages/pyspark/python/lib/pyspark.zip/pyspark/daemon.py\", line 186, in manager\n",
      "  File \"/home/andre/.local/lib/python3.8/site-packages/pyspark/python/lib/pyspark.zip/pyspark/daemon.py\", line 74, in worker\n",
      "  File \"/home/andre/.local/lib/python3.8/site-packages/pyspark/python/lib/pyspark.zip/pyspark/worker.py\", line 643, in main\n",
      "    if read_int(infile) == SpecialLengths.END_OF_STREAM:\n",
      "  File \"/home/andre/.local/lib/python3.8/site-packages/pyspark/python/lib/pyspark.zip/pyspark/serializers.py\", line 564, in read_int\n",
      "    raise EOFError\n",
      "EOFError\n",
      "Traceback (most recent call last):\n",
      "  File \"/home/andre/.local/lib/python3.8/site-packages/pyspark/python/lib/pyspark.zip/pyspark/daemon.py\", line 186, in manager\n",
      "  File \"/home/andre/.local/lib/python3.8/site-packages/pyspark/python/lib/pyspark.zip/pyspark/daemon.py\", line 74, in worker\n",
      "  File \"/home/andre/.local/lib/python3.8/site-packages/pyspark/python/lib/pyspark.zip/pyspark/worker.py\", line 643, in main\n",
      "    if read_int(infile) == SpecialLengths.END_OF_STREAM:\n",
      "  File \"/home/andre/.local/lib/python3.8/site-packages/pyspark/python/lib/pyspark.zip/pyspark/serializers.py\", line 564, in read_int\n",
      "    raise EOFError\n",
      "EOFError\n",
      "Traceback (most recent call last):\n",
      "  File \"/home/andre/.local/lib/python3.8/site-packages/pyspark/python/lib/pyspark.zip/pyspark/daemon.py\", line 186, in manager\n",
      "  File \"/home/andre/.local/lib/python3.8/site-packages/pyspark/python/lib/pyspark.zip/pyspark/daemon.py\", line 74, in worker\n",
      "  File \"/home/andre/.local/lib/python3.8/site-packages/pyspark/python/lib/pyspark.zip/pyspark/worker.py\", line 643, in main\n",
      "    if read_int(infile) == SpecialLengths.END_OF_STREAM:\n",
      "  File \"/home/andre/.local/lib/python3.8/site-packages/pyspark/python/lib/pyspark.zip/pyspark/serializers.py\", line 564, in read_int\n",
      "    raise EOFError\n",
      "EOFError\n",
      "Traceback (most recent call last):\n",
      "  File \"/home/andre/.local/lib/python3.8/site-packages/pyspark/python/lib/pyspark.zip/pyspark/daemon.py\", line 186, in manager\n",
      "  File \"/home/andre/.local/lib/python3.8/site-packages/pyspark/python/lib/pyspark.zip/pyspark/daemon.py\", line 74, in worker\n",
      "  File \"/home/andre/.local/lib/python3.8/site-packages/pyspark/python/lib/pyspark.zip/pyspark/worker.py\", line 643, in main\n",
      "    if read_int(infile) == SpecialLengths.END_OF_STREAM:\n",
      "  File \"/home/andre/.local/lib/python3.8/site-packages/pyspark/python/lib/pyspark.zip/pyspark/serializers.py\", line 564, in read_int\n",
      "    raise EOFError\n",
      "EOFError\n",
      "Traceback (most recent call last):\n",
      "  File \"/home/andre/.local/lib/python3.8/site-packages/pyspark/python/lib/pyspark.zip/pyspark/daemon.py\", line 186, in manager\n",
      "  File \"/home/andre/.local/lib/python3.8/site-packages/pyspark/python/lib/pyspark.zip/pyspark/daemon.py\", line 74, in worker\n",
      "  File \"/home/andre/.local/lib/python3.8/site-packages/pyspark/python/lib/pyspark.zip/pyspark/worker.py\", line 643, in main\n",
      "    if read_int(infile) == SpecialLengths.END_OF_STREAM:\n",
      "  File \"/home/andre/.local/lib/python3.8/site-packages/pyspark/python/lib/pyspark.zip/pyspark/serializers.py\", line 564, in read_int\n",
      "    raise EOFError\n",
      "EOFError\n",
      "Traceback (most recent call last):\n",
      "  File \"/home/andre/.local/lib/python3.8/site-packages/pyspark/python/lib/pyspark.zip/pyspark/daemon.py\", line 186, in manager\n",
      "  File \"/home/andre/.local/lib/python3.8/site-packages/pyspark/python/lib/pyspark.zip/pyspark/daemon.py\", line 74, in worker\n",
      "  File \"/home/andre/.local/lib/python3.8/site-packages/pyspark/python/lib/pyspark.zip/pyspark/worker.py\", line 643, in main\n",
      "    if read_int(infile) == SpecialLengths.END_OF_STREAM:\n",
      "  File \"/home/andre/.local/lib/python3.8/site-packages/pyspark/python/lib/pyspark.zip/pyspark/serializers.py\", line 564, in read_int\n",
      "    raise EOFError\n",
      "EOFError\n",
      "Traceback (most recent call last):\n",
      "  File \"/home/andre/.local/lib/python3.8/site-packages/pyspark/python/lib/pyspark.zip/pyspark/daemon.py\", line 186, in manager\n",
      "  File \"/home/andre/.local/lib/python3.8/site-packages/pyspark/python/lib/pyspark.zip/pyspark/daemon.py\", line 74, in worker\n",
      "  File \"/home/andre/.local/lib/python3.8/site-packages/pyspark/python/lib/pyspark.zip/pyspark/worker.py\", line 643, in main\n",
      "    if read_int(infile) == SpecialLengths.END_OF_STREAM:\n",
      "  File \"/home/andre/.local/lib/python3.8/site-packages/pyspark/python/lib/pyspark.zip/pyspark/serializers.py\", line 564, in read_int\n",
      "    raise EOFError\n",
      "EOFError\n",
      "                                                                                \r"
     ]
    },
    {
     "data": {
      "image/png": "[encoded data removed]",
      "text/plain": [
       "<Figure size 432x288 with 1 Axes>"
      ]
     },
     "metadata": {
      "needs_background": "light"
     },
     "output_type": "display_data"
    }
   ],
   "source": [
    "if plotting:\n",
    "    \n",
    "    dft = dfm[2019][5][ywl_i].sample(False, 0.1, seed=0).limit(10000)\n",
    "    \n",
    "    #plotting to view fare cost vs trip distance to see if there are many outliers, there are a few\n",
    "    data = dft.select('fare_amount','trip_distance').toPandas()\n",
    "    data.plot.scatter(y='fare_amount',x='trip_distance')"
   ]
  },
  {
   "cell_type": "code",
   "execution_count": 27,
   "metadata": {
    "scrolled": true
   },
   "outputs": [
    {
     "data": {
      "image/png": "[encoded data removed]",
      "text/plain": [
       "<Figure size 432x288 with 1 Axes>"
      ]
     },
     "metadata": {
      "needs_background": "light"
     },
     "output_type": "display_data"
    }
   ],
   "source": [
    "if plotting:\n",
    "        \n",
    "    #plots a new fare amount vs trip distance graph to see if the majority of outliers have been removed\n",
    "    dft = dfm[2020][5][grn_i].sample(False, 0.1, seed=0).limit(10000)\n",
    "    data = dft.select('fare_amount','trip_distance').toPandas()\n",
    "    data.plot.scatter(y='fare_amount',x='trip_distance')"
   ]
  },
  {
   "cell_type": "code",
   "execution_count": 28,
   "metadata": {},
   "outputs": [
    {
     "name": "stdout",
     "output_type": "stream",
     "text": [
      "3.9141061000000263 seconds have elapsed\n",
      "310.2591822999998 seconds have elapsed total\n"
     ]
    }
   ],
   "source": [
    "print(str(time.perf_counter() - start_time) + \" seconds have elapsed\")\n",
    "print(str(time.perf_counter() - start_time_og) + \" seconds have elapsed total\")\n",
    "start_time = time.perf_counter()"
   ]
  },
  {
   "cell_type": "code",
   "execution_count": 29,
   "metadata": {},
   "outputs": [],
   "source": [
    "#██████╗  ██████╗  ███████╗ ██████╗  ██████╗   ██████╗   ██████╗ ███████╗ ███████╗ ███████╗ ██╗ ███╗   ██╗  ██████╗  \n",
    "#██╔══██╗ ██╔══██╗ ██╔════╝ ██╔══██╗ ██╔══██╗ ██╔═══██╗ ██╔════╝ ██╔════╝ ██╔════╝ ██╔════╝ ██║ ████╗  ██║ ██╔════╝  \n",
    "#██████╔╝ ██████╔╝ █████╗   ██████╔╝ ██████╔╝ ██║   ██║ ██║      █████╗   ███████╗ ███████╗ ██║ ██╔██╗ ██║ ██║  ███╗ \n",
    "#██╔═══╝  ██╔══██╗ ██╔══╝   ██╔═══╝  ██╔══██╗ ██║   ██║ ██║      ██╔══╝   ╚════██║ ╚════██║ ██║ ██║╚██╗██║ ██║   ██║ \n",
    "#██║      ██║  ██║ ███████╗ ██║      ██║  ██║ ╚██████╔╝ ╚██████╗ ███████╗ ███████║ ███████║ ██║ ██║ ╚████║ ╚██████╔╝ \n",
    "#╚═╝      ╚═╝  ╚═╝ ╚══════╝ ╚═╝      ╚═╝  ╚═╝  ╚═════╝   ╚═════╝ ╚══════╝ ╚══════╝ ╚══════╝ ╚═╝ ╚═╝  ╚═══╝  ╚═════╝  \n",
    "# Adding generated features and changing forms of other features\n",
    "\n",
    "#█▀▄ ▄▀█ ▀█▀ █▀▀    ▄▀█ █▄ █ █▀▄    ▀█▀ █ █▀▄▀█ █▀▀ \n",
    "#█▄▀ █▀█  █  ██▄    █▀█ █ ▀█ █▄▀     █  █ █ ▀ █ ██▄ \n",
    "# adding in binned date and time\n",
    "\n",
    "#UDFs can only have one output\n",
    "#this UDF bins the time of the day into the specified groups with int output between 1 - n being the group number\n",
    "@F.udf(\"int\")\n",
    "def find_part_of_day(time):\n",
    "    \n",
    "    #finds hour of the day once to speed code a bit\n",
    "    hour = int(time.__format__(\"%H\"))\n",
    "    \n",
    "    #checks which part of the day that hour should be in\n",
    "    if hour < day_time_breakdown[1]:\n",
    "        return 0\n",
    "    elif hour < day_time_breakdown[2]:\n",
    "        return 1\n",
    "    elif hour < day_time_breakdown[3]:\n",
    "        return 2\n",
    "    else:\n",
    "        return 3\n",
    "\n",
    "#this UDF extracts the week of the year from the date time column\n",
    "#years are captured in the matrix level and months will become irrelavent shortly\n",
    "@F.udf(\"int\")\n",
    "def find_week_of_year(time):\n",
    "    return int(time.__format__(\"%U\"))\n",
    "\n",
    "#the individual days can then be subsorted by looking at the day of the week\n",
    "@F.udf(\"int\")\n",
    "def find_day_of_week(time):\n",
    "    return int(time.__format__(\"%w\"))\n",
    "\n",
    "#testdf = dfm[2020][ywl_i].withColumn(\"week_of_year\", find_week_of_year(col(\"PUtime\"))).withColumn(\"day_of_week\", find_day_of_week(col(\"PUtime\"))).withColumn(\"part_of_day\", find_part_of_day(col(\"PUtime\")))"
   ]
  },
  {
   "cell_type": "code",
   "execution_count": 30,
   "metadata": {},
   "outputs": [],
   "source": [
    "#█   █▀█ █▀▀ ▄▀█ ▀█▀ █ █▀█ █▄ █ \n",
    "#█▄▄ █▄█ █▄▄ █▀█  █  █ █▄█ █ ▀█ \n",
    "# adding in borough number\n",
    "\n",
    "#first we need to get the location id to borough id matrix \n",
    "\n",
    "#reads the location id file\n",
    "borough_codes = pd.read_csv(data_dir + location_file)\n",
    "\n",
    "#finds the 'id' for each location interms of the 5 boroughs\n",
    "codes = []\n",
    "for index, row in borough_codes.iterrows():\n",
    "    codes.append(boroughs.index(row[\"Borough\"]))\n",
    "\n",
    "#adds said list to the dataframe    \n",
    "borough_codes['Borough_code'] = pd.Series(codes, index = borough_codes.index)\n",
    "\n",
    "#location \n",
    "@F.udf(\"int\")\n",
    "def find_borough_code(location):\n",
    "    return int(borough_codes.loc[borough_codes[\"LocationID\"] == int(location)][\"Borough_code\"].values[0])"
   ]
  },
  {
   "cell_type": "code",
   "execution_count": 31,
   "metadata": {},
   "outputs": [
    {
     "name": "stdout",
     "output_type": "stream",
     "text": [
      "processing 2019 yellow\n",
      "processing 2019 green\n",
      "processing 2019 yellow\n",
      "processing 2019 green\n",
      "processing 2019 yellow\n",
      "processing 2019 green\n",
      "processing 2019 yellow\n",
      "processing 2019 green\n",
      "processing 2019 yellow\n",
      "processing 2019 green\n",
      "processing 2019 yellow\n",
      "processing 2019 green\n",
      "processing 2019 yellow\n",
      "processing 2019 green\n",
      "processing 2019 yellow\n",
      "processing 2019 green\n",
      "processing 2019 yellow\n",
      "processing 2019 green\n",
      "processing 2019 yellow\n",
      "processing 2019 green\n",
      "processing 2019 yellow\n",
      "processing 2019 green\n",
      "processing 2020 yellow\n",
      "processing 2020 green\n",
      "processing 2020 yellow\n",
      "processing 2020 green\n",
      "processing 2020 yellow\n",
      "processing 2020 green\n",
      "processing 2020 yellow\n",
      "processing 2020 green\n",
      "processing 2020 yellow\n",
      "processing 2020 green\n",
      "processing 2020 yellow\n",
      "processing 2020 green\n",
      "processing 2020 yellow\n",
      "processing 2020 green\n",
      "processing 2020 yellow\n",
      "processing 2020 green\n",
      "processing 2020 yellow\n",
      "processing 2020 green\n",
      "processing 2020 yellow\n",
      "processing 2020 green\n",
      "processing 2020 yellow\n",
      "processing 2020 green\n"
     ]
    }
   ],
   "source": [
    "#applying location and date row transformations\n",
    "\n",
    "for year in years:\n",
    "    for month in range(covid_started[0], months_in_year + 1): \n",
    "        for taxi_i in range(0,len(taxi_file_names)):\n",
    "            if( dfm[year][month][taxi_i] ):\n",
    "                \n",
    "                print(\"processing \" + str(year) + \" \" + taxi_file_names[taxi_i])\n",
    "                dfm[year][month][taxi_i] = dfm[year][month][taxi_i]\\\n",
    "                    .withColumn(\"PU_borough_code\", find_borough_code(col(\"PULocationID\")))\\\n",
    "                    .withColumn(\"DO_borough_code\", find_borough_code(col(\"DOLocationID\")))\\\n",
    "                    .withColumn(\"week_of_year\", find_week_of_year(col(\"PUtime\")))\\\n",
    "                    .withColumn(\"day_of_week\", find_day_of_week(col(\"PUtime\")))\\\n",
    "                    .withColumn(\"part_of_day\", find_part_of_day(col(\"PUtime\")))\\\n",
    "                    #.drop(\"DOLocationID\",\"PULocationID\",\"PUtime\")"
   ]
  },
  {
   "cell_type": "code",
   "execution_count": 32,
   "metadata": {},
   "outputs": [
    {
     "name": "stdout",
     "output_type": "stream",
     "text": [
      "1.6509401000002981 seconds have elapsed\n",
      "311.91146119999985 seconds have elapsed total\n"
     ]
    }
   ],
   "source": [
    "#prints how much time has elapsed\n",
    "print(str(time.perf_counter() - start_time) + \" seconds have elapsed\")\n",
    "print(str(time.perf_counter() - start_time_og) + \" seconds have elapsed total\")\n",
    "start_time = time.perf_counter()"
   ]
  },
  {
   "cell_type": "code",
   "execution_count": null,
   "metadata": {
    "scrolled": true
   },
   "outputs": [
    {
     "name": "stdout",
     "output_type": "stream",
     "text": [
      "counting 2019-2 yellow\n"
     ]
    },
    {
     "name": "stderr",
     "output_type": "stream",
     "text": [
      "                                                                                \r"
     ]
    },
    {
     "name": "stdout",
     "output_type": "stream",
     "text": [
      "625.4788066000001 seconds have elapsed\n",
      "937.4081167999998 seconds have elapsed total\n",
      "counting 2019-2 green\n"
     ]
    },
    {
     "name": "stderr",
     "output_type": "stream",
     "text": [
      "                                                                                \r"
     ]
    },
    {
     "name": "stdout",
     "output_type": "stream",
     "text": [
      "43.729777900000045 seconds have elapsed\n",
      "981.1383894999999 seconds have elapsed total\n",
      "counting 2019-3 yellow\n"
     ]
    },
    {
     "name": "stderr",
     "output_type": "stream",
     "text": [
      "                                                                                \r"
     ]
    },
    {
     "name": "stdout",
     "output_type": "stream",
     "text": [
      "693.2653048999996 seconds have elapsed\n",
      "1674.4041685000002 seconds have elapsed total\n",
      "counting 2019-3 green\n"
     ]
    },
    {
     "name": "stderr",
     "output_type": "stream",
     "text": [
      "                                                                                \r"
     ]
    },
    {
     "name": "stdout",
     "output_type": "stream",
     "text": [
      "43.27467119999983 seconds have elapsed\n",
      "1717.6790394999998 seconds have elapsed total\n",
      "counting 2019-4 yellow\n"
     ]
    },
    {
     "name": "stderr",
     "output_type": "stream",
     "text": [
      "                                                                                \r"
     ]
    },
    {
     "name": "stdout",
     "output_type": "stream",
     "text": [
      "653.43545 seconds have elapsed\n",
      "2371.1150560999995 seconds have elapsed total\n",
      "counting 2019-4 green\n"
     ]
    },
    {
     "name": "stderr",
     "output_type": "stream",
     "text": [
      "                                                                                \r"
     ]
    },
    {
     "name": "stdout",
     "output_type": "stream",
     "text": [
      "39.42177290000018 seconds have elapsed\n",
      "2410.5372947999995 seconds have elapsed total\n",
      "counting 2019-5 yellow\n"
     ]
    },
    {
     "name": "stderr",
     "output_type": "stream",
     "text": [
      "                                                                                \r"
     ]
    },
    {
     "name": "stdout",
     "output_type": "stream",
     "text": [
      "685.8192468000007 seconds have elapsed\n",
      "3096.3567612999996 seconds have elapsed total\n",
      "counting 2019-5 green\n"
     ]
    },
    {
     "name": "stderr",
     "output_type": "stream",
     "text": [
      "                                                                                \r"
     ]
    },
    {
     "name": "stdout",
     "output_type": "stream",
     "text": [
      "42.421569199999794 seconds have elapsed\n",
      "3138.7785052 seconds have elapsed total\n",
      "counting 2019-6 yellow\n"
     ]
    },
    {
     "name": "stderr",
     "output_type": "stream",
     "text": [
      "                                                                                \r"
     ]
    },
    {
     "name": "stdout",
     "output_type": "stream",
     "text": [
      "700.8202529999999 seconds have elapsed\n",
      "3839.5989216 seconds have elapsed total\n",
      "counting 2019-6 green\n"
     ]
    },
    {
     "name": "stderr",
     "output_type": "stream",
     "text": [
      "                                                                                \r"
     ]
    },
    {
     "name": "stdout",
     "output_type": "stream",
     "text": [
      "38.48925750000035 seconds have elapsed\n",
      "3878.0883791999995 seconds have elapsed total\n",
      "counting 2019-7 yellow\n"
     ]
    },
    {
     "name": "stderr",
     "output_type": "stream",
     "text": [
      "                                                                                \r"
     ]
    },
    {
     "name": "stdout",
     "output_type": "stream",
     "text": [
      "536.7894845999999 seconds have elapsed\n",
      "4414.8780369999995 seconds have elapsed total\n",
      "counting 2019-7 green\n"
     ]
    },
    {
     "name": "stderr",
     "output_type": "stream",
     "text": [
      "                                                                                \r"
     ]
    },
    {
     "name": "stdout",
     "output_type": "stream",
     "text": [
      "33.79256350000014 seconds have elapsed\n",
      "4448.6708019 seconds have elapsed total\n",
      "counting 2019-8 yellow\n"
     ]
    },
    {
     "name": "stderr",
     "output_type": "stream",
     "text": [
      "                                                                                \r"
     ]
    },
    {
     "name": "stdout",
     "output_type": "stream",
     "text": [
      "519.2893545999996 seconds have elapsed\n",
      "4967.9606032 seconds have elapsed total\n",
      "counting 2019-8 green\n"
     ]
    },
    {
     "name": "stderr",
     "output_type": "stream",
     "text": [
      "                                                                                \r"
     ]
    },
    {
     "name": "stdout",
     "output_type": "stream",
     "text": [
      "29.719277299999703 seconds have elapsed\n",
      "4997.680345 seconds have elapsed total\n",
      "counting 2019-9 yellow\n"
     ]
    },
    {
     "name": "stderr",
     "output_type": "stream",
     "text": [
      "                                                                                \r"
     ]
    },
    {
     "name": "stdout",
     "output_type": "stream",
     "text": [
      "579.4681152000003 seconds have elapsed\n",
      "5577.1486557 seconds have elapsed total\n",
      "counting 2019-9 green\n"
     ]
    },
    {
     "name": "stderr",
     "output_type": "stream",
     "text": [
      "                                                                                \r"
     ]
    },
    {
     "name": "stdout",
     "output_type": "stream",
     "text": [
      "30.48346759999913 seconds have elapsed\n",
      "5607.6323155 seconds have elapsed total\n",
      "counting 2019-10 yellow\n"
     ]
    },
    {
     "name": "stderr",
     "output_type": "stream",
     "text": [
      "                                                                                \r"
     ]
    },
    {
     "name": "stdout",
     "output_type": "stream",
     "text": [
      "647.861327999999 seconds have elapsed\n",
      "6255.493840300001 seconds have elapsed total\n",
      "counting 2019-10 green\n"
     ]
    },
    {
     "name": "stderr",
     "output_type": "stream",
     "text": [
      "                                                                                \r"
     ]
    },
    {
     "name": "stdout",
     "output_type": "stream",
     "text": [
      "32.370454099998824 seconds have elapsed\n",
      "6287.864492899999 seconds have elapsed total\n",
      "counting 2019-11 yellow\n"
     ]
    },
    {
     "name": "stderr",
     "output_type": "stream",
     "text": [
      "                                                                                \r"
     ]
    },
    {
     "name": "stdout",
     "output_type": "stream",
     "text": [
      "626.5041937999995 seconds have elapsed\n",
      "6914.3688962999995 seconds have elapsed total\n",
      "counting 2019-11 green\n"
     ]
    },
    {
     "name": "stderr",
     "output_type": "stream",
     "text": [
      "                                                                                \r"
     ]
    },
    {
     "name": "stdout",
     "output_type": "stream",
     "text": [
      "29.32891159999963 seconds have elapsed\n",
      "6943.6982628 seconds have elapsed total\n",
      "counting 2019-12 yellow\n"
     ]
    },
    {
     "name": "stderr",
     "output_type": "stream",
     "text": [
      "                                                                                \r"
     ]
    },
    {
     "name": "stdout",
     "output_type": "stream",
     "text": [
      "601.0010192999998 seconds have elapsed\n",
      "7544.6995062 seconds have elapsed total\n",
      "counting 2019-12 green\n"
     ]
    },
    {
     "name": "stderr",
     "output_type": "stream",
     "text": [
      "                                                                                \r"
     ]
    },
    {
     "name": "stdout",
     "output_type": "stream",
     "text": [
      "27.594307699999263 seconds have elapsed\n",
      "7572.2940011 seconds have elapsed total\n",
      "counting 2020-2 yellow\n"
     ]
    },
    {
     "name": "stderr",
     "output_type": "stream",
     "text": [
      "                                                                                \r"
     ]
    },
    {
     "name": "stdout",
     "output_type": "stream",
     "text": [
      "614.3859198999999 seconds have elapsed\n",
      "8186.6801338 seconds have elapsed total\n",
      "counting 2020-2 green\n"
     ]
    },
    {
     "name": "stderr",
     "output_type": "stream",
     "text": [
      "                                                                                \r"
     ]
    },
    {
     "name": "stdout",
     "output_type": "stream",
     "text": [
      "42.33957370000098 seconds have elapsed\n",
      "8229.0199894 seconds have elapsed total\n",
      "counting 2020-3 yellow\n"
     ]
    },
    {
     "name": "stderr",
     "output_type": "stream",
     "text": [
      "                                                                                \r"
     ]
    },
    {
     "name": "stdout",
     "output_type": "stream",
     "text": [
      "351.5325692000006 seconds have elapsed\n",
      "8580.5528157 seconds have elapsed total\n",
      "counting 2020-3 green\n"
     ]
    },
    {
     "name": "stderr",
     "output_type": "stream",
     "text": [
      "                                                                                \r"
     ]
    },
    {
     "name": "stdout",
     "output_type": "stream",
     "text": [
      "21.051079999999274 seconds have elapsed\n",
      "8601.604378600001 seconds have elapsed total\n",
      "counting 2020-4 yellow\n"
     ]
    },
    {
     "name": "stderr",
     "output_type": "stream",
     "text": [
      "                                                                                \r"
     ]
    },
    {
     "name": "stdout",
     "output_type": "stream",
     "text": [
      "24.61921439999969 seconds have elapsed\n",
      "8626.223761199999 seconds have elapsed total\n",
      "counting 2020-4 green\n"
     ]
    },
    {
     "name": "stderr",
     "output_type": "stream",
     "text": [
      "                                                                                \r"
     ]
    },
    {
     "name": "stdout",
     "output_type": "stream",
     "text": [
      "8.30015049999929 seconds have elapsed\n",
      "8634.5244767 seconds have elapsed total\n",
      "counting 2020-5 yellow\n"
     ]
    },
    {
     "name": "stderr",
     "output_type": "stream",
     "text": [
      "                                                                                \r"
     ]
    },
    {
     "name": "stdout",
     "output_type": "stream",
     "text": [
      "28.823150199999873 seconds have elapsed\n",
      "8663.348421800001 seconds have elapsed total\n",
      "counting 2020-5 green\n"
     ]
    },
    {
     "name": "stderr",
     "output_type": "stream",
     "text": [
      "                                                                                \r"
     ]
    },
    {
     "name": "stdout",
     "output_type": "stream",
     "text": [
      "9.916798700000072 seconds have elapsed\n",
      "8673.2658609 seconds have elapsed total\n",
      "counting 2020-6 yellow\n"
     ]
    },
    {
     "name": "stderr",
     "output_type": "stream",
     "text": [
      "                                                                                \r"
     ]
    },
    {
     "name": "stdout",
     "output_type": "stream",
     "text": [
      "48.49971430000005 seconds have elapsed\n",
      "8721.765831 seconds have elapsed total\n",
      "counting 2020-6 green\n"
     ]
    },
    {
     "name": "stderr",
     "output_type": "stream",
     "text": [
      "                                                                                \r"
     ]
    },
    {
     "name": "stdout",
     "output_type": "stream",
     "text": [
      "12.646596900000077 seconds have elapsed\n",
      "8734.413052 seconds have elapsed total\n",
      "counting 2020-7 yellow\n"
     ]
    },
    {
     "name": "stderr",
     "output_type": "stream",
     "text": [
      "                                                                                \r"
     ]
    },
    {
     "name": "stdout",
     "output_type": "stream",
     "text": [
      "74.18935899999997 seconds have elapsed\n",
      "8808.602621499998 seconds have elapsed total\n",
      "counting 2020-7 green\n"
     ]
    },
    {
     "name": "stderr",
     "output_type": "stream",
     "text": [
      "                                                                                \r"
     ]
    },
    {
     "name": "stdout",
     "output_type": "stream",
     "text": [
      "16.337945999999647 seconds have elapsed\n",
      "8824.9414049 seconds have elapsed total\n",
      "counting 2020-8 yellow\n"
     ]
    },
    {
     "name": "stderr",
     "output_type": "stream",
     "text": [
      "                                                                                \r"
     ]
    },
    {
     "name": "stdout",
     "output_type": "stream",
     "text": [
      "94.86971040000026 seconds have elapsed\n",
      "8919.8116615 seconds have elapsed total\n",
      "counting 2020-8 green\n"
     ]
    },
    {
     "name": "stderr",
     "output_type": "stream",
     "text": [
      "                                                                                \r"
     ]
    },
    {
     "name": "stdout",
     "output_type": "stream",
     "text": [
      "14.380181900000025 seconds have elapsed\n",
      "8934.192340900001 seconds have elapsed total\n",
      "counting 2020-9 yellow\n"
     ]
    },
    {
     "name": "stderr",
     "output_type": "stream",
     "text": [
      "[Stage 164:=======>                                                 (1 + 7) / 8]\r"
     ]
    }
   ],
   "source": [
    "#█▀▀ █▀▀█ █  █ █▀▀▄ ▀▀█▀▀  ▀  █▀▀▄ █▀▀▀ \n",
    "#█   █  █ █  █ █  █   █   ▀█▀ █  █ █ ▀█ \n",
    "#▀▀▀ ▀▀▀▀  ▀▀▀ ▀  ▀   ▀   ▀▀▀ ▀  ▀ ▀▀▀▀ \n",
    "# As we have binned all the data into serveral differnt groups, we now need to count how many\n",
    "# are in each group\n",
    "\n",
    "#creates an empty array\n",
    "dfc = {}\n",
    "start_time2 = time.perf_counter()\n",
    "\n",
    "#for each year\n",
    "for year in years:\n",
    "    dfc[year] = {}\n",
    "    \n",
    "    #for each month\n",
    "    for month in range(covid_started[0], months_in_year + 1): \n",
    "        dfc[year][month] = {}\n",
    "        \n",
    "        #for each taxi service\n",
    "        for taxi_i in range(0,len(taxi_file_names)):\n",
    "            \n",
    "            #clears array for data count\n",
    "            dfc[year][month][taxi_i] = None\n",
    "            \n",
    "            #prints what stage count it up to\n",
    "            print(\"counting \" + str(year) + \"-\" + str(month)+\" \"+taxi_file_names[taxi_i])\n",
    "            \n",
    "            #if the data frame is not nothing\n",
    "            if( dfm[year][month][taxi_i] ):\n",
    "            \n",
    "                #prints a dataframe of the count groupped by the binning columns\n",
    "                dfc[year][month][taxi_i] = dfm[year][month][taxi_i]\\\n",
    "                    .groupBy(\"week_of_year\",\"day_of_week\",\"PU_borough_code\",\"DO_borough_code\",\"part_of_day\")\\\n",
    "                    .count()\\\n",
    "                    .toPandas()\n",
    "                \n",
    "                #lost a lot of data mid way once so added this safe guard\n",
    "                dfc[year][month][taxi_i].to_csv(data_dir + taxi_file_names[taxi_i] + processed_data_file + str(year) + \"-\" + str(month).zfill(2) + \".csv\") \n",
    "            \n",
    "            \n",
    "            #prints how much time has elapsed\n",
    "            print(str(time.perf_counter() - start_time2) + \" seconds have elapsed\")\n",
    "            print(str(time.perf_counter() - start_time_og) + \" seconds have elapsed total\")\n",
    "            start_time2 = time.perf_counter()\n",
    "        \n",
    "    "
   ]
  },
  {
   "cell_type": "code",
   "execution_count": null,
   "metadata": {},
   "outputs": [],
   "source": [
    "#prints how much time has elapsed\n",
    "print(str(time.perf_counter() - start_time) + \" seconds have elapsed\")\n",
    "print(str(time.perf_counter() - start_time_og) + \" seconds have elapsed total\")\n",
    "start_time = time.perf_counter()"
   ]
  },
  {
   "cell_type": "code",
   "execution_count": null,
   "metadata": {},
   "outputs": [],
   "source": []
  },
  {
   "cell_type": "code",
   "execution_count": null,
   "metadata": {},
   "outputs": [],
   "source": []
  },
  {
   "cell_type": "code",
   "execution_count": null,
   "metadata": {},
   "outputs": [],
   "source": []
  },
  {
   "cell_type": "code",
   "execution_count": null,
   "metadata": {},
   "outputs": [],
   "source": []
  },
  {
   "cell_type": "code",
   "execution_count": null,
   "metadata": {
    "scrolled": true
   },
   "outputs": [],
   "source": [
    "#▀▀█▀▀ █▀▀█ █   █   █  █  ▀  █▀▀▄ █▀▀▀ \n",
    "#  █   █▄▄█ █   █   █▄▄█ ▀█▀ █  █ █ ▀█ \n",
    "#  ▀   ▀  ▀ ▀▀▀ ▀▀▀ ▄▄▄█ ▀▀▀ ▀  ▀ ▀▀▀▀ \n",
    "# Once all the bins are counted, we need to tally the corresponding bins into a useable dataframe\n",
    "\n",
    "#function for counting a specific combonation of binning\n",
    "def countthis_col(year, month, taxi_i, week, dayow, borough, part_of_day, borough_col):\n",
    "    #print(\"\\t subcount \"+\" \".join( [str(int) for int in [year, taxi_i]]))\n",
    "    \n",
    "    #returns the following sum from the counted dataframe\n",
    "    return dfc[year][month][taxi_i]\\\n",
    "        .loc[\n",
    "            (dfc[year][month][taxi_i][\"week_of_year\"] == week) &   #checks the week of the year matches\n",
    "            (dfc[year][month][taxi_i][\"day_of_week\"] == dayow) &   #checks the day of the week matches\n",
    "            (dfc[year][month][taxi_i][borough_col] == borough) &   #checks the borough matches\n",
    "            (dfc[year][month][taxi_i][\"part_of_day\"] == part_of_day)  #checks the part of the day matches\n",
    "        ]['count'].values.sum()   #calulates the sum of the counts\n",
    "\n",
    "#this function is used to call the above function for both Pick up and drop off locations\n",
    "def countthis(year, month, taxi_i, week, dayow, borough, part_of_day):\n",
    "    \n",
    "    #just returns the sum of the above function twice\n",
    "    return countthis_col(year, month, taxi_i, week, dayow, borough, part_of_day, \"PU_borough_code\")\\\n",
    "         + countthis_col(year, month, taxi_i, week, dayow, borough, part_of_day, \"DO_borough_code\")\n",
    "    \n",
    "    \n",
    "# returns an array of values or of 0s if it was empty  \n",
    "def add_this_covid_data(day, stdar, borough, fhv, vals, length):\n",
    "    if(vals.any()):\n",
    "        output[10*(day - stdar) + 2 * borough + fhv].extend(vals[0])\n",
    "    else:\n",
    "        output[10*(day - stdar) + 2 * borough + fhv].extend([0] * length)\n",
    "        \n",
    "#output is just an array for now\n",
    "output = [] \n",
    "\n",
    "#start day, moved here as is used for debugging periods\n",
    "stdar = start_day #7*4+4\n",
    "\n",
    "\n",
    "for day in range(stdar, days_in_2020):#100):#start_day+1):\n",
    "    print(day)#start_day)\n",
    "    #output.append([])\n",
    "    datetimeO = datetime.datetime.strptime( \" \".join( [str(int) for int in [day, covid_started[1]]]) ,\"%j %Y\" )\n",
    "    dayow = int(datetimeO.__format__(\"%w\"))\n",
    "    week = int(datetimeO.__format__(\"%U\"))\n",
    "    \n",
    "    for borough in range(0, len(covid_boroughs)):\n",
    "        \n",
    "        for fhv in range(0, 2):\n",
    "            #[10*(day - start_day) + 2 * borough + fhv]\n",
    "            output.append([\n",
    "                dayow,\n",
    "                week,\n",
    "                borough,\n",
    "                fhv\n",
    "            ])\n",
    "            \n",
    "            \n",
    "            \n",
    "            \n",
    "            for year in years:\n",
    "                \n",
    "                for part_of_day in range(0, len(day_time_breakdown)):\n",
    "                    \n",
    "                    count = 0\n",
    "                                        \n",
    "                    for month in range(covid_started[0], months_in_year + 1): \n",
    "                    #print(\"counting \"+\" \".join( [str(int) for int in [day, week, dayow, borough, fhv, year, part_of_day]]))\n",
    "                        \n",
    "                        #for fhv\n",
    "                        if( fhv == 1):\n",
    "                            count = 0\n",
    "                            #for taxi_i in [fhv_i, hvf_i]:\n",
    "                            #    if( dfm[year][month][taxi_i] ):\n",
    "                            #        count += countthis(year, month, taxi_i, week, dayow, borough, part_of_day)\n",
    "                            \n",
    "                        #for non fhv\n",
    "                        else:\n",
    "                            for taxi_i in [ywl_i, grn_i]:\n",
    "                                if( dfm[year][month][taxi_i] ):\n",
    "                                    count += countthis(year, month, taxi_i, week, dayow, borough, part_of_day)\n",
    "                                    \n",
    "                    output[10*(day - stdar) + 2 * borough + fhv].append(count)#start_day) + 2 * borough + fhv].append(count)\n",
    "            \n",
    "            #adding relavent covid case numbers\n",
    "            \n",
    "            #adding general ones first\n",
    "            add_this_covid_data(day, stdar, borough, fhv, \n",
    "                covid_cases.loc[covid_cases['date_of_interest'] == datetimeO][covid_of_interest].values,\n",
    "                len(covid_of_interest)\n",
    "            )\n",
    "            \n",
    "            #adding borough specific ones second\n",
    "            add_this_covid_data(day, stdar, borough, fhv, \n",
    "                covid_cases.loc[covid_cases['date_of_interest'] == datetimeO][\n",
    "                [covid_boroughs[borough] + \"_\" + suffix \n",
    "                 for suffix in covid_of_interest]]\\\n",
    "                .values,\n",
    "                len(covid_of_interest)\n",
    "            )\n",
    "            \n",
    "            \n",
    "                    \n",
    "            #adding relavent covid restrictions\n",
    "            add_this_covid_data(day, stdar, borough, fhv, \n",
    "                covid_restrictions.loc[\n",
    "                    covid_restrictions[\"date\"] == int(datetime.datetime.timestamp(datetimeO)) #converts current rows date to unix and finds relavent restrictions\n",
    "                ].drop(\"date\", axis=1)\n",
    "                .values,\n",
    "                len(covid_restrictions.columns) - 1\n",
    "            )\n"
   ]
  },
  {
   "cell_type": "code",
   "execution_count": null,
   "metadata": {},
   "outputs": [],
   "source": [
    "#prints how much time has elapsed\n",
    "print(str(time.perf_counter() - start_time) + \" seconds have elapsed\")\n",
    "print(str(time.perf_counter() - start_time_og) + \" seconds have elapsed total\")\n",
    "start_time = time.perf_counter()"
   ]
  },
  {
   "cell_type": "code",
   "execution_count": null,
   "metadata": {},
   "outputs": [],
   "source": []
  },
  {
   "cell_type": "code",
   "execution_count": null,
   "metadata": {},
   "outputs": [],
   "source": [
    "#prints the current output array to see it looks alright\n",
    "output"
   ]
  },
  {
   "cell_type": "code",
   "execution_count": null,
   "metadata": {},
   "outputs": [],
   "source": [
    "# ██████╗  ██╗   ██╗ ████████╗ ██████╗  ██╗   ██╗ ████████╗ \n",
    "#██╔═══██╗ ██║   ██║ ╚══██╔══╝ ██╔══██╗ ██║   ██║ ╚══██╔══╝ \n",
    "#██║   ██║ ██║   ██║    ██║    ██████╔╝ ██║   ██║    ██║    \n",
    "#██║   ██║ ██║   ██║    ██║    ██╔═══╝  ██║   ██║    ██║    \n",
    "#╚██████╔╝ ╚██████╔╝    ██║    ██║      ╚██████╔╝    ██║    \n",
    "# ╚═════╝   ╚═════╝     ╚═╝    ╚═╝       ╚═════╝     ╚═╝    \n",
    "#\n",
    "\n",
    "\n",
    "#the data has been outputted row by row in the following format\n",
    "#\n",
    "#data order, \n",
    "#date + general\n",
    "#      dayow, week, borough,\n",
    "#taxi \n",
    "#        fhv, for each years(\n",
    "#                     for each partofday( \n",
    "#                            count))\n",
    "#covid cases normal then borough\n",
    "#     'case_count', 'probable_case_count','hospitalized_count', 'death_count', 'probable_death_count',\n",
    "#       'case_count_7day_avg', 'all_case_count_7day_avg', 'hospitalized_count_7day_avg',\n",
    "#       'death_count_7day_avg', 'all_death_count_7day_avg'\n",
    "#restrictions\n",
    "#       'pre_k_schools', 'elementary_schools', 'middle_schools',\n",
    "#       'high_schools', 'construction', 'offices', 'phase_1', 'restaurants',\n",
    "#       'outdoor_dining', 'phase_2', 'phase_3', 'phase_4',\n",
    "#       'large_capacity_public', 'gatherings', 'broadway', 'movies',\n",
    "#       'stadium_capcity', 'indoor_religious', 'curfew'#\n",
    "\n",
    "\n",
    "\n",
    "#column names for final data frame\n",
    "columns =  [\"day\", \n",
    "            \"week\", \n",
    "            \"borough\", \n",
    "            \"fhv\", \n",
    "            #\"2018_night\", \n",
    "            #\"2018_morn\",\n",
    "            #\"2018_arvo\",\n",
    "            #\"2018_even\",\n",
    "            \"2019_night\", \n",
    "            \"2019_morn\",\n",
    "            \"2019_arvo\",\n",
    "            \"2019_even\",\n",
    "            \"2020_night\", \n",
    "            \"2020_morn\",\n",
    "            \"2020_arvo\",\n",
    "            \"2020_even\",\n",
    "            'total_case_count', \n",
    "            'total_probable_case_count',\n",
    "            'total_hospitalized_count', \n",
    "            'total_death_count', \n",
    "            'total_probable_death_count',\n",
    "            'total_case_count_7day_avg',\n",
    "            'total_all_case_count_7day_avg', \n",
    "            'total_hospitalized_count_7day_avg',\n",
    "            'total_death_count_7day_avg', \n",
    "            'total_all_death_count_7day_avg',\n",
    "            'borough_case_count', \n",
    "            'borough_probable_case_count',\n",
    "            'borough_hospitalized_count', \n",
    "            'borough_death_count', \n",
    "            'borough_probable_death_count',\n",
    "            'borough_case_count_7day_avg',\n",
    "            'borough_all_case_count_7day_avg', \n",
    "            'borough_hospitalized_count_7day_avg',\n",
    "            'borough_death_count_7day_avg', \n",
    "            'borough_all_death_count_7day_avg',\n",
    "            'pre_k_schools', \n",
    "            'elementary_schools', \n",
    "            'middle_schools',\n",
    "            'high_schools', \n",
    "            'construction', \n",
    "            'offices', \n",
    "            'phase_1', \n",
    "            'restaurants',\n",
    "            'outdoor_dining', \n",
    "            'phase_2', \n",
    "            'phase_3', \n",
    "            'phase_4',\n",
    "            'large_capacity_public', \n",
    "            'gatherings', \n",
    "            'broadway', \n",
    "            'movies',\n",
    "            'stadium_capcity', \n",
    "            'indoor_religious', \n",
    "            'curfew'\n",
    "    ]\n",
    "\n",
    "#converting output to a dataframe\n",
    "dfo = pd.DataFrame(output, columns = columns)\n",
    "dfo"
   ]
  },
  {
   "cell_type": "code",
   "execution_count": null,
   "metadata": {},
   "outputs": [],
   "source": [
    "dfo.to_csv(data_dir + output_file)"
   ]
  },
  {
   "cell_type": "code",
   "execution_count": null,
   "metadata": {},
   "outputs": [],
   "source": [
    "output1 = output"
   ]
  },
  {
   "cell_type": "code",
   "execution_count": null,
   "metadata": {},
   "outputs": [],
   "source": [
    "print(str(time.perf_counter() - start_time) + \" seconds have elapsed\")\n",
    "print(str(time.perf_counter() - start_time_og) + \" seconds have elapsed total\")\n",
    "start_time = time.perf_counter()"
   ]
  }
 ],
 "metadata": {
  "kernelspec": {
   "display_name": "Python 3 (ipykernel)",
   "language": "python",
   "name": "python3"
  },
  "language_info": {
   "codemirror_mode": {
    "name": "ipython",
    "version": 3
   },
   "file_extension": ".py",
   "mimetype": "text/x-python",
   "name": "python",
   "nbconvert_exporter": "python",
   "pygments_lexer": "ipython3",
   "version": "3.8.10"
  },
  "varInspector": {
   "cols": {
    "lenName": 16,
    "lenType": 16,
    "lenVar": 40
   },
   "kernels_config": {
    "python": {
     "delete_cmd_postfix": "",
     "delete_cmd_prefix": "del ",
     "library": "var_list.py",
     "varRefreshCmd": "print(var_dic_list())"
    },
    "r": {
     "delete_cmd_postfix": ") ",
     "delete_cmd_prefix": "rm(",
     "library": "var_list.r",
     "varRefreshCmd": "cat(var_dic_list()) "
    }
   },
   "types_to_exclude": [
    "module",
    "function",
    "builtin_function_or_method",
    "instance",
    "_Feature"
   ],
   "window_display": false
  }
 },
 "nbformat": 4,
 "nbformat_minor": 2
}
